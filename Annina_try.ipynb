{
 "cells": [
  {
   "cell_type": "code",
   "execution_count": 2,
   "metadata": {},
   "outputs": [],
   "source": [
    "import pandas as pd \n",
    "import numpy as np\n",
    "import datetime\n",
    "from sklearn.preprocessing import OneHotEncoder\n",
    "from sklearn.compose import make_column_transformer\n",
    "import matplotlib.pyplot as plt\n",
    "from sklearn.ensemble import RandomForestRegressor\n",
    "from math import sqrt\n",
    "from sklearn.metrics import mean_squared_error, r2_score\n",
    "from sklearn.model_selection import train_test_split\n",
    "from sklearn.linear_model import LinearRegression\n"
   ]
  },
  {
   "cell_type": "code",
   "execution_count": 3,
   "metadata": {},
   "outputs": [],
   "source": [
    "metadata = pd.read_csv(\"../Project-Disney-World-DSF/metadata.csv\")\n",
    "hauntedhouse = pd.read_csv(\"../Project-Disney-World-DSF/haunted_mansion[87].csv\")\n",
    "\n"
   ]
  },
  {
   "cell_type": "markdown",
   "metadata": {},
   "source": [
    "**Preparing Hounted House Data**"
   ]
  },
  {
   "cell_type": "code",
   "execution_count": 4,
   "metadata": {},
   "outputs": [],
   "source": [
    "#compute percentage of na-values per column; result: 96.59% of actual waiting times are na\n",
    "hauntedhouse.isna().mean()\n",
    "\n",
    "#extract and drop SACTMIN column from Df\n",
    "act_times = hauntedhouse.copy()[\"SACTMIN\"]\n",
    "hauntedhouse = hauntedhouse.drop([\"SACTMIN\"], axis=1)\n",
    "\n",
    "#format column date\n",
    "hauntedhouse['date'] = pd.to_datetime(hauntedhouse['date'])\n",
    "#format column datetime\n",
    "hauntedhouse['datetime'] = pd.to_datetime(hauntedhouse['datetime'])\n",
    "\n",
    "#drop rows with missing waiting times (coded as -999); dataset does NOT include observations during covid-19 closure time in the first place\n",
    "hauntedhouse.loc[hauntedhouse['SPOSTMIN'] == -999,'SPOSTMIN'] = np.nan\n",
    "hauntedhouse = hauntedhouse.dropna(axis=0, subset=\"SPOSTMIN\")\n",
    "hauntedhouse = hauntedhouse.reset_index(drop=True)  \n"
   ]
  },
  {
   "cell_type": "markdown",
   "metadata": {},
   "source": [
    "**Preparing Metadata**"
   ]
  },
  {
   "cell_type": "code",
   "execution_count": 5,
   "metadata": {},
   "outputs": [
    {
     "name": "stderr",
     "output_type": "stream",
     "text": [
      "/Library/Frameworks/Python.framework/Versions/3.10/lib/python3.10/site-packages/sklearn/utils/deprecation.py:87: FutureWarning: Function get_feature_names is deprecated; get_feature_names is deprecated in 1.0 and will be removed in 1.2. Please use get_feature_names_out instead.\n",
      "  warnings.warn(msg, category=FutureWarning)\n"
     ]
    }
   ],
   "source": [
    "#looking at percentage of na-values per column\n",
    "#metadata.isna().mean().sort_values(ascending=False).head(20)\n",
    "\n",
    "#remove variables related to Hollywood Studios Park in California (and not Walt Disney World in Florida)\n",
    "metadata.columns.str.startswith('HS').sum() \n",
    "metadata.columns.str.endswith('_HS').sum() \n",
    "\n",
    "metadata = metadata.loc[:, ~metadata.columns.str.startswith('HS')]\n",
    "metadata = metadata.loc[:, ~metadata.columns.str.endswith('_HS')]\n",
    "\n",
    "#filter out columns with all na-values\n",
    "metadata.dropna(axis=1, how='all', inplace=True)\n",
    "\n",
    "#format date\n",
    "metadata['DATE'] = pd.to_datetime(metadata['DATE'])\n",
    "\n",
    "#function that deals with string percentage values for columns that contain percentage of schools in session\n",
    "def str_percent_to_float(dataframe):\n",
    "    for col in dataframe.columns:\n",
    "        if col.lower().startswith('insession'):\n",
    "            dataframe[col] = dataframe[col].str.rstrip(\"%\").astype(float)/100\n",
    "            \n",
    "str_percent_to_float(metadata)\n",
    "\n",
    "#function that deals with string times of form '9:00' or '25:00'; converts to hours since midnight (float) for consistency and usability\n",
    "sww = [\"MKOPEN\", \"MKCLOSE\", \"MKEMHOPEN\", \"MKEMHCLOSE\", \"MKOPENYEST\", \"MKCLOSEYEST\", \"MKOPENTOM\", \"MKCLOSETOM\", \"EPOPEN\", \"EPCLOSE\", \"EPEMHOPEN\",\n",
    "\"EPEMHCLOSE\", \"EPOPENYEST\", \"EPCLOSEYEST\", \"EPOPENTOM\", \"EPCLOSETOM\", \"AKOPEN\", \"AKCLOSE\", \"AKEMHOPEN\", \"AKEMHCLOSE\", \"AKOPENYEST\", \"AKCLOSEYEST\",\n",
    "\"AKOPENTOM\", \"AKCLOSETOM\", \"MKPRDDT1\", \"MKPRDDT2\", \"MKPRDNT1\", \"MKPRDNT2\", \"MKFIRET1\", \"MKFIRET2\", \"EPFIRET1\", \"EPFIRET2\", \"AKSHWNT1\", \"AKSHWNT2\"]\n",
    "\n",
    "for col in sww:\n",
    "    metadata[col].fillna(\"99\", inplace=True)  #to indicate outliers\n",
    "\n",
    "metadata[\"MKCLOSE\"][0]\n",
    "\n",
    "def format_times(x):\n",
    "    if len(x)==4:\n",
    "        time = '0'+ x\n",
    "    elif len(x)==5 and x > '24:00':\n",
    "        hour = int(x[:2])-24\n",
    "        minute = x[-2:]\n",
    "        time = '0' + str(hour) + ':' + minute\n",
    "    elif x == '24:00':\n",
    "        time = '00:00'\n",
    "    else:\n",
    "        time = x\n",
    "    return time\n",
    "\n",
    "def str_times_to_numerical(dataframe):\n",
    "    for col in sww:\n",
    "        dataframe[col] = dataframe[col].apply(format_times)\n",
    "        dataframe[col] = dataframe[col].apply(lambda y: y.rstrip(':'))\n",
    "        dataframe[col] = dataframe[col].apply(lambda x: (float(x[:2])+(float(x[-2:])/60)) if x[0] != 0 else (float(x[1])+(float(x[-2:])/60)))\n",
    "\n",
    "str_times_to_numerical(metadata)\n",
    "\n",
    "#one-hot encoding of categorical features\n",
    "categorical_features = [\"WDW_TICKET_SEASON\", \"SEASON\", \"HOLIDAYN\", \"WDWTICKETSEASON\", \"WDWRaceN\", \"WDWeventN\", \"WDWSEASON\", \"MKeventN\", \"EPeventN\", \"AKeventN\", \"HOLIDAYJ\", \"MKPRDDN\", \"MKPRDNN\", \"MKFIREN\", \"EPFIREN\", \"AKSHWNN\"]\n",
    "\n",
    "transformer = make_column_transformer(\n",
    "    (OneHotEncoder(), categorical_features),\n",
    "    remainder='passthrough')\n",
    "\n",
    "transformed = transformer.fit_transform(metadata)\n",
    "encoded_metadata = pd.DataFrame(transformed, columns=transformer.get_feature_names())\n",
    "#new name of columns for i encoded column: 'onehotencoder__xi_oldcategoryname'\n",
    "\n",
    "#function for filling missing values, to be used at later time\n",
    "def imputation(dataframe):\n",
    "        for col in dataframe.columns:\n",
    "                dataframe[col] = dataframe[col].fillna(method='bfill')\n",
    "                dataframe[col] = dataframe[col].fillna(dataframe[col].median())\n",
    "        return dataframe\n"
   ]
  },
  {
   "cell_type": "markdown",
   "metadata": {},
   "source": [
    "Merge datasets"
   ]
  },
  {
   "cell_type": "code",
   "execution_count": 6,
   "metadata": {},
   "outputs": [],
   "source": [
    "#change name of \"DATE\" column in metadata to fit with Haunted House \n",
    "encoded_metadata.rename(columns={\"DATE\":\"date\"}, inplace=True)\n",
    "\n",
    "#merge metadata and waiting time data \n",
    "waittimes = pd.merge(hauntedhouse, encoded_metadata, how='left', on='date')\n",
    "\n",
    "#Formatting of dates and times \n",
    "#drop date column due to redundancy\n",
    "waittimes = waittimes.loc[:, waittimes.columns != \"date\"]\n",
    "\n",
    "#create two new variables for hour and minute (day, month and year already included)\n",
    "waittimes[\"HOUROFDAY\"] = waittimes.copy()['datetime'].dt.hour\n",
    "waittimes[\"MINUTEOFHOUR\"] = waittimes.copy()['datetime'].dt.minute\n",
    "#then drop datetime column\n",
    "waittimes = waittimes.loc[:, waittimes.columns != 'datetime']\n"
   ]
  },
  {
   "cell_type": "code",
   "execution_count": 12,
   "metadata": {},
   "outputs": [
    {
     "data": {
      "text/html": [
       "<div>\n",
       "<style scoped>\n",
       "    .dataframe tbody tr th:only-of-type {\n",
       "        vertical-align: middle;\n",
       "    }\n",
       "\n",
       "    .dataframe tbody tr th {\n",
       "        vertical-align: top;\n",
       "    }\n",
       "\n",
       "    .dataframe thead th {\n",
       "        text-align: right;\n",
       "    }\n",
       "</style>\n",
       "<table border=\"1\" class=\"dataframe\">\n",
       "  <thead>\n",
       "    <tr style=\"text-align: right;\">\n",
       "      <th></th>\n",
       "      <th>SPOSTMIN</th>\n",
       "      <th>onehotencoder__x0_peak</th>\n",
       "      <th>onehotencoder__x0_regular</th>\n",
       "      <th>onehotencoder__x0_value</th>\n",
       "      <th>onehotencoder__x0_nan</th>\n",
       "      <th>onehotencoder__x1_CHRISTMAS</th>\n",
       "      <th>onehotencoder__x1_CHRISTMAS PEAK</th>\n",
       "      <th>onehotencoder__x1_COLUMBUS DAY</th>\n",
       "      <th>onehotencoder__x1_EASTER</th>\n",
       "      <th>onehotencoder__x1_FALL</th>\n",
       "      <th>...</th>\n",
       "      <th>MKFIRET2</th>\n",
       "      <th>EPFIREWK</th>\n",
       "      <th>EPFIRET1</th>\n",
       "      <th>EPFIRET2</th>\n",
       "      <th>AKPRDDAY</th>\n",
       "      <th>AKSHWNGT</th>\n",
       "      <th>AKSHWNT1</th>\n",
       "      <th>AKSHWNT2</th>\n",
       "      <th>HOUROFDAY</th>\n",
       "      <th>MINUTEOFHOUR</th>\n",
       "    </tr>\n",
       "  </thead>\n",
       "  <tbody>\n",
       "    <tr>\n",
       "      <th>0</th>\n",
       "      <td>15.0</td>\n",
       "      <td>1.0</td>\n",
       "      <td>0.0</td>\n",
       "      <td>0.0</td>\n",
       "      <td>0.0</td>\n",
       "      <td>0.0</td>\n",
       "      <td>1.0</td>\n",
       "      <td>0.0</td>\n",
       "      <td>0.0</td>\n",
       "      <td>0.0</td>\n",
       "      <td>...</td>\n",
       "      <td>100.65</td>\n",
       "      <td>1.0</td>\n",
       "      <td>21.0</td>\n",
       "      <td>100.65</td>\n",
       "      <td>0.0</td>\n",
       "      <td>2.0</td>\n",
       "      <td>18.50</td>\n",
       "      <td>20.00</td>\n",
       "      <td>9</td>\n",
       "      <td>7</td>\n",
       "    </tr>\n",
       "    <tr>\n",
       "      <th>1</th>\n",
       "      <td>15.0</td>\n",
       "      <td>1.0</td>\n",
       "      <td>0.0</td>\n",
       "      <td>0.0</td>\n",
       "      <td>0.0</td>\n",
       "      <td>0.0</td>\n",
       "      <td>1.0</td>\n",
       "      <td>0.0</td>\n",
       "      <td>0.0</td>\n",
       "      <td>0.0</td>\n",
       "      <td>...</td>\n",
       "      <td>100.65</td>\n",
       "      <td>1.0</td>\n",
       "      <td>21.0</td>\n",
       "      <td>100.65</td>\n",
       "      <td>0.0</td>\n",
       "      <td>2.0</td>\n",
       "      <td>18.50</td>\n",
       "      <td>20.00</td>\n",
       "      <td>9</td>\n",
       "      <td>11</td>\n",
       "    </tr>\n",
       "    <tr>\n",
       "      <th>2</th>\n",
       "      <td>15.0</td>\n",
       "      <td>1.0</td>\n",
       "      <td>0.0</td>\n",
       "      <td>0.0</td>\n",
       "      <td>0.0</td>\n",
       "      <td>0.0</td>\n",
       "      <td>1.0</td>\n",
       "      <td>0.0</td>\n",
       "      <td>0.0</td>\n",
       "      <td>0.0</td>\n",
       "      <td>...</td>\n",
       "      <td>100.65</td>\n",
       "      <td>1.0</td>\n",
       "      <td>21.0</td>\n",
       "      <td>100.65</td>\n",
       "      <td>0.0</td>\n",
       "      <td>2.0</td>\n",
       "      <td>18.50</td>\n",
       "      <td>20.00</td>\n",
       "      <td>9</td>\n",
       "      <td>14</td>\n",
       "    </tr>\n",
       "    <tr>\n",
       "      <th>3</th>\n",
       "      <td>15.0</td>\n",
       "      <td>1.0</td>\n",
       "      <td>0.0</td>\n",
       "      <td>0.0</td>\n",
       "      <td>0.0</td>\n",
       "      <td>0.0</td>\n",
       "      <td>1.0</td>\n",
       "      <td>0.0</td>\n",
       "      <td>0.0</td>\n",
       "      <td>0.0</td>\n",
       "      <td>...</td>\n",
       "      <td>100.65</td>\n",
       "      <td>1.0</td>\n",
       "      <td>21.0</td>\n",
       "      <td>100.65</td>\n",
       "      <td>0.0</td>\n",
       "      <td>2.0</td>\n",
       "      <td>18.50</td>\n",
       "      <td>20.00</td>\n",
       "      <td>9</td>\n",
       "      <td>21</td>\n",
       "    </tr>\n",
       "    <tr>\n",
       "      <th>4</th>\n",
       "      <td>10.0</td>\n",
       "      <td>1.0</td>\n",
       "      <td>0.0</td>\n",
       "      <td>0.0</td>\n",
       "      <td>0.0</td>\n",
       "      <td>0.0</td>\n",
       "      <td>1.0</td>\n",
       "      <td>0.0</td>\n",
       "      <td>0.0</td>\n",
       "      <td>0.0</td>\n",
       "      <td>...</td>\n",
       "      <td>100.65</td>\n",
       "      <td>1.0</td>\n",
       "      <td>21.0</td>\n",
       "      <td>100.65</td>\n",
       "      <td>0.0</td>\n",
       "      <td>2.0</td>\n",
       "      <td>18.50</td>\n",
       "      <td>20.00</td>\n",
       "      <td>9</td>\n",
       "      <td>27</td>\n",
       "    </tr>\n",
       "    <tr>\n",
       "      <th>...</th>\n",
       "      <td>...</td>\n",
       "      <td>...</td>\n",
       "      <td>...</td>\n",
       "      <td>...</td>\n",
       "      <td>...</td>\n",
       "      <td>...</td>\n",
       "      <td>...</td>\n",
       "      <td>...</td>\n",
       "      <td>...</td>\n",
       "      <td>...</td>\n",
       "      <td>...</td>\n",
       "      <td>...</td>\n",
       "      <td>...</td>\n",
       "      <td>...</td>\n",
       "      <td>...</td>\n",
       "      <td>...</td>\n",
       "      <td>...</td>\n",
       "      <td>...</td>\n",
       "      <td>...</td>\n",
       "      <td>...</td>\n",
       "      <td>...</td>\n",
       "    </tr>\n",
       "    <tr>\n",
       "      <th>85683</th>\n",
       "      <td>10.0</td>\n",
       "      <td>0.0</td>\n",
       "      <td>0.0</td>\n",
       "      <td>0.0</td>\n",
       "      <td>1.0</td>\n",
       "      <td>0.0</td>\n",
       "      <td>0.0</td>\n",
       "      <td>0.0</td>\n",
       "      <td>0.0</td>\n",
       "      <td>0.0</td>\n",
       "      <td>...</td>\n",
       "      <td>100.65</td>\n",
       "      <td>1.0</td>\n",
       "      <td>21.0</td>\n",
       "      <td>100.65</td>\n",
       "      <td>0.0</td>\n",
       "      <td>0.0</td>\n",
       "      <td>100.65</td>\n",
       "      <td>100.65</td>\n",
       "      <td>20</td>\n",
       "      <td>33</td>\n",
       "    </tr>\n",
       "    <tr>\n",
       "      <th>85684</th>\n",
       "      <td>10.0</td>\n",
       "      <td>0.0</td>\n",
       "      <td>0.0</td>\n",
       "      <td>0.0</td>\n",
       "      <td>1.0</td>\n",
       "      <td>0.0</td>\n",
       "      <td>0.0</td>\n",
       "      <td>0.0</td>\n",
       "      <td>0.0</td>\n",
       "      <td>0.0</td>\n",
       "      <td>...</td>\n",
       "      <td>100.65</td>\n",
       "      <td>1.0</td>\n",
       "      <td>21.0</td>\n",
       "      <td>100.65</td>\n",
       "      <td>0.0</td>\n",
       "      <td>0.0</td>\n",
       "      <td>100.65</td>\n",
       "      <td>100.65</td>\n",
       "      <td>20</td>\n",
       "      <td>40</td>\n",
       "    </tr>\n",
       "    <tr>\n",
       "      <th>85685</th>\n",
       "      <td>10.0</td>\n",
       "      <td>0.0</td>\n",
       "      <td>0.0</td>\n",
       "      <td>0.0</td>\n",
       "      <td>1.0</td>\n",
       "      <td>0.0</td>\n",
       "      <td>0.0</td>\n",
       "      <td>0.0</td>\n",
       "      <td>0.0</td>\n",
       "      <td>0.0</td>\n",
       "      <td>...</td>\n",
       "      <td>100.65</td>\n",
       "      <td>1.0</td>\n",
       "      <td>21.0</td>\n",
       "      <td>100.65</td>\n",
       "      <td>0.0</td>\n",
       "      <td>0.0</td>\n",
       "      <td>100.65</td>\n",
       "      <td>100.65</td>\n",
       "      <td>20</td>\n",
       "      <td>47</td>\n",
       "    </tr>\n",
       "    <tr>\n",
       "      <th>85686</th>\n",
       "      <td>10.0</td>\n",
       "      <td>0.0</td>\n",
       "      <td>0.0</td>\n",
       "      <td>0.0</td>\n",
       "      <td>1.0</td>\n",
       "      <td>0.0</td>\n",
       "      <td>0.0</td>\n",
       "      <td>0.0</td>\n",
       "      <td>0.0</td>\n",
       "      <td>0.0</td>\n",
       "      <td>...</td>\n",
       "      <td>100.65</td>\n",
       "      <td>1.0</td>\n",
       "      <td>21.0</td>\n",
       "      <td>100.65</td>\n",
       "      <td>0.0</td>\n",
       "      <td>0.0</td>\n",
       "      <td>100.65</td>\n",
       "      <td>100.65</td>\n",
       "      <td>20</td>\n",
       "      <td>54</td>\n",
       "    </tr>\n",
       "    <tr>\n",
       "      <th>85687</th>\n",
       "      <td>10.0</td>\n",
       "      <td>0.0</td>\n",
       "      <td>0.0</td>\n",
       "      <td>0.0</td>\n",
       "      <td>1.0</td>\n",
       "      <td>0.0</td>\n",
       "      <td>0.0</td>\n",
       "      <td>0.0</td>\n",
       "      <td>0.0</td>\n",
       "      <td>0.0</td>\n",
       "      <td>...</td>\n",
       "      <td>100.65</td>\n",
       "      <td>1.0</td>\n",
       "      <td>21.0</td>\n",
       "      <td>100.65</td>\n",
       "      <td>0.0</td>\n",
       "      <td>0.0</td>\n",
       "      <td>100.65</td>\n",
       "      <td>100.65</td>\n",
       "      <td>21</td>\n",
       "      <td>0</td>\n",
       "    </tr>\n",
       "  </tbody>\n",
       "</table>\n",
       "<p>85688 rows × 279 columns</p>\n",
       "</div>"
      ],
      "text/plain": [
       "       SPOSTMIN  onehotencoder__x0_peak  onehotencoder__x0_regular  \\\n",
       "0          15.0                     1.0                        0.0   \n",
       "1          15.0                     1.0                        0.0   \n",
       "2          15.0                     1.0                        0.0   \n",
       "3          15.0                     1.0                        0.0   \n",
       "4          10.0                     1.0                        0.0   \n",
       "...         ...                     ...                        ...   \n",
       "85683      10.0                     0.0                        0.0   \n",
       "85684      10.0                     0.0                        0.0   \n",
       "85685      10.0                     0.0                        0.0   \n",
       "85686      10.0                     0.0                        0.0   \n",
       "85687      10.0                     0.0                        0.0   \n",
       "\n",
       "       onehotencoder__x0_value  onehotencoder__x0_nan  \\\n",
       "0                          0.0                    0.0   \n",
       "1                          0.0                    0.0   \n",
       "2                          0.0                    0.0   \n",
       "3                          0.0                    0.0   \n",
       "4                          0.0                    0.0   \n",
       "...                        ...                    ...   \n",
       "85683                      0.0                    1.0   \n",
       "85684                      0.0                    1.0   \n",
       "85685                      0.0                    1.0   \n",
       "85686                      0.0                    1.0   \n",
       "85687                      0.0                    1.0   \n",
       "\n",
       "       onehotencoder__x1_CHRISTMAS  onehotencoder__x1_CHRISTMAS PEAK  \\\n",
       "0                              0.0                               1.0   \n",
       "1                              0.0                               1.0   \n",
       "2                              0.0                               1.0   \n",
       "3                              0.0                               1.0   \n",
       "4                              0.0                               1.0   \n",
       "...                            ...                               ...   \n",
       "85683                          0.0                               0.0   \n",
       "85684                          0.0                               0.0   \n",
       "85685                          0.0                               0.0   \n",
       "85686                          0.0                               0.0   \n",
       "85687                          0.0                               0.0   \n",
       "\n",
       "       onehotencoder__x1_COLUMBUS DAY  onehotencoder__x1_EASTER  \\\n",
       "0                                 0.0                       0.0   \n",
       "1                                 0.0                       0.0   \n",
       "2                                 0.0                       0.0   \n",
       "3                                 0.0                       0.0   \n",
       "4                                 0.0                       0.0   \n",
       "...                               ...                       ...   \n",
       "85683                             0.0                       0.0   \n",
       "85684                             0.0                       0.0   \n",
       "85685                             0.0                       0.0   \n",
       "85686                             0.0                       0.0   \n",
       "85687                             0.0                       0.0   \n",
       "\n",
       "       onehotencoder__x1_FALL  ...  MKFIRET2  EPFIREWK  EPFIRET1  EPFIRET2  \\\n",
       "0                         0.0  ...    100.65       1.0      21.0    100.65   \n",
       "1                         0.0  ...    100.65       1.0      21.0    100.65   \n",
       "2                         0.0  ...    100.65       1.0      21.0    100.65   \n",
       "3                         0.0  ...    100.65       1.0      21.0    100.65   \n",
       "4                         0.0  ...    100.65       1.0      21.0    100.65   \n",
       "...                       ...  ...       ...       ...       ...       ...   \n",
       "85683                     0.0  ...    100.65       1.0      21.0    100.65   \n",
       "85684                     0.0  ...    100.65       1.0      21.0    100.65   \n",
       "85685                     0.0  ...    100.65       1.0      21.0    100.65   \n",
       "85686                     0.0  ...    100.65       1.0      21.0    100.65   \n",
       "85687                     0.0  ...    100.65       1.0      21.0    100.65   \n",
       "\n",
       "       AKPRDDAY  AKSHWNGT  AKSHWNT1  AKSHWNT2  HOUROFDAY  MINUTEOFHOUR  \n",
       "0           0.0       2.0     18.50     20.00          9             7  \n",
       "1           0.0       2.0     18.50     20.00          9            11  \n",
       "2           0.0       2.0     18.50     20.00          9            14  \n",
       "3           0.0       2.0     18.50     20.00          9            21  \n",
       "4           0.0       2.0     18.50     20.00          9            27  \n",
       "...         ...       ...       ...       ...        ...           ...  \n",
       "85683       0.0       0.0    100.65    100.65         20            33  \n",
       "85684       0.0       0.0    100.65    100.65         20            40  \n",
       "85685       0.0       0.0    100.65    100.65         20            47  \n",
       "85686       0.0       0.0    100.65    100.65         20            54  \n",
       "85687       0.0       0.0    100.65    100.65         21             0  \n",
       "\n",
       "[85688 rows x 279 columns]"
      ]
     },
     "execution_count": 12,
     "metadata": {},
     "output_type": "execute_result"
    }
   ],
   "source": [
    "#subset for years 2019-2021 due to computing constraints\n",
    "waittimes = waittimes.loc[waittimes[\"YEAR\"].isin(range(2019,2022))].reset_index(drop=True)\n",
    "waittimes"
   ]
  },
  {
   "cell_type": "code",
   "execution_count": 13,
   "metadata": {},
   "outputs": [
    {
     "ename": "KeyboardInterrupt",
     "evalue": "",
     "output_type": "error",
     "traceback": [
      "\u001b[0;31m---------------------------------------------------------------------------\u001b[0m",
      "\u001b[0;31mKeyboardInterrupt\u001b[0m                         Traceback (most recent call last)",
      "Cell \u001b[0;32mIn [13], line 8\u001b[0m\n\u001b[1;32m      6\u001b[0m indices \u001b[38;5;241m=\u001b[39m []\n\u001b[1;32m      7\u001b[0m \u001b[38;5;28;01mfor\u001b[39;00m index \u001b[38;5;129;01min\u001b[39;00m \u001b[38;5;28mrange\u001b[39m(\u001b[38;5;241m1\u001b[39m,\u001b[38;5;28mlen\u001b[39m(nr_arr)):\n\u001b[0;32m----> 8\u001b[0m     \u001b[38;5;28;01mif\u001b[39;00m (nr_arr[index] \u001b[38;5;241m-\u001b[39m nr_arr[index\u001b[38;5;241m-\u001b[39m\u001b[38;5;241m1\u001b[39m]) \u001b[38;5;241m>\u001b[39m (\u001b[43mwaittimes\u001b[49m\u001b[43m[\u001b[49m\u001b[38;5;124;43m\"\u001b[39;49m\u001b[38;5;124;43mSPOSTMIN\u001b[39;49m\u001b[38;5;124;43m\"\u001b[39;49m\u001b[43m]\u001b[49m\u001b[38;5;241;43m.\u001b[39;49m\u001b[43mstd\u001b[49m\u001b[43m(\u001b[49m\u001b[43m)\u001b[49m \u001b[38;5;241m*\u001b[39m \u001b[38;5;241m2\u001b[39m):\n\u001b[1;32m      9\u001b[0m         indices\u001b[38;5;241m.\u001b[39mappend(index)\n\u001b[1;32m     10\u001b[0m waittimes \u001b[38;5;241m=\u001b[39m waittimes\u001b[38;5;241m.\u001b[39mdrop((indices), axis\u001b[38;5;241m=\u001b[39m\u001b[38;5;241m0\u001b[39m)\n",
      "File \u001b[0;32m/Library/Frameworks/Python.framework/Versions/3.10/lib/python3.10/site-packages/pandas/core/generic.py:11717\u001b[0m, in \u001b[0;36mNDFrame._add_numeric_operations.<locals>.std\u001b[0;34m(self, axis, skipna, level, ddof, numeric_only, **kwargs)\u001b[0m\n\u001b[1;32m  11697\u001b[0m \u001b[39m@doc\u001b[39m(\n\u001b[1;32m  11698\u001b[0m     _num_ddof_doc,\n\u001b[1;32m  11699\u001b[0m     desc\u001b[39m=\u001b[39m\u001b[39m\"\u001b[39m\u001b[39mReturn sample standard deviation over requested axis.\u001b[39m\u001b[39m\"\u001b[39m\n\u001b[0;32m   (...)\u001b[0m\n\u001b[1;32m  11715\u001b[0m     \u001b[39m*\u001b[39m\u001b[39m*\u001b[39mkwargs,\n\u001b[1;32m  11716\u001b[0m ):\n\u001b[0;32m> 11717\u001b[0m     \u001b[39mreturn\u001b[39;00m NDFrame\u001b[39m.\u001b[39;49mstd(\u001b[39mself\u001b[39;49m, axis, skipna, level, ddof, numeric_only, \u001b[39m*\u001b[39;49m\u001b[39m*\u001b[39;49mkwargs)\n",
      "File \u001b[0;32m/Library/Frameworks/Python.framework/Versions/3.10/lib/python3.10/site-packages/pandas/core/generic.py:11305\u001b[0m, in \u001b[0;36mNDFrame.std\u001b[0;34m(self, axis, skipna, level, ddof, numeric_only, **kwargs)\u001b[0m\n\u001b[1;32m  11296\u001b[0m \u001b[39mdef\u001b[39;00m \u001b[39mstd\u001b[39m(\n\u001b[1;32m  11297\u001b[0m     \u001b[39mself\u001b[39m,\n\u001b[1;32m  11298\u001b[0m     axis: Axis \u001b[39m|\u001b[39m \u001b[39mNone\u001b[39;00m \u001b[39m=\u001b[39m \u001b[39mNone\u001b[39;00m,\n\u001b[0;32m   (...)\u001b[0m\n\u001b[1;32m  11303\u001b[0m     \u001b[39m*\u001b[39m\u001b[39m*\u001b[39mkwargs,\n\u001b[1;32m  11304\u001b[0m ) \u001b[39m-\u001b[39m\u001b[39m>\u001b[39m Series \u001b[39m|\u001b[39m \u001b[39mfloat\u001b[39m:\n\u001b[0;32m> 11305\u001b[0m     \u001b[39mreturn\u001b[39;00m \u001b[39mself\u001b[39;49m\u001b[39m.\u001b[39;49m_stat_function_ddof(\n\u001b[1;32m  11306\u001b[0m         \u001b[39m\"\u001b[39;49m\u001b[39mstd\u001b[39;49m\u001b[39m\"\u001b[39;49m, nanops\u001b[39m.\u001b[39;49mnanstd, axis, skipna, level, ddof, numeric_only, \u001b[39m*\u001b[39;49m\u001b[39m*\u001b[39;49mkwargs\n\u001b[1;32m  11307\u001b[0m     )\n",
      "File \u001b[0;32m/Library/Frameworks/Python.framework/Versions/3.10/lib/python3.10/site-packages/pandas/core/generic.py:11266\u001b[0m, in \u001b[0;36mNDFrame._stat_function_ddof\u001b[0;34m(self, name, func, axis, skipna, level, ddof, numeric_only, **kwargs)\u001b[0m\n\u001b[1;32m  11256\u001b[0m     warnings\u001b[39m.\u001b[39mwarn(\n\u001b[1;32m  11257\u001b[0m         \u001b[39m\"\u001b[39m\u001b[39mUsing the level keyword in DataFrame and Series aggregations is \u001b[39m\u001b[39m\"\u001b[39m\n\u001b[1;32m  11258\u001b[0m         \u001b[39m\"\u001b[39m\u001b[39mdeprecated and will be removed in a future version. Use groupby \u001b[39m\u001b[39m\"\u001b[39m\n\u001b[0;32m   (...)\u001b[0m\n\u001b[1;32m  11261\u001b[0m         stacklevel\u001b[39m=\u001b[39mfind_stack_level(),\n\u001b[1;32m  11262\u001b[0m     )\n\u001b[1;32m  11263\u001b[0m     \u001b[39mreturn\u001b[39;00m \u001b[39mself\u001b[39m\u001b[39m.\u001b[39m_agg_by_level(\n\u001b[1;32m  11264\u001b[0m         name, axis\u001b[39m=\u001b[39maxis, level\u001b[39m=\u001b[39mlevel, skipna\u001b[39m=\u001b[39mskipna, ddof\u001b[39m=\u001b[39mddof\n\u001b[1;32m  11265\u001b[0m     )\n\u001b[0;32m> 11266\u001b[0m \u001b[39mreturn\u001b[39;00m \u001b[39mself\u001b[39;49m\u001b[39m.\u001b[39;49m_reduce(\n\u001b[1;32m  11267\u001b[0m     func, name, axis\u001b[39m=\u001b[39;49maxis, numeric_only\u001b[39m=\u001b[39;49mnumeric_only, skipna\u001b[39m=\u001b[39;49mskipna, ddof\u001b[39m=\u001b[39;49mddof\n\u001b[1;32m  11268\u001b[0m )\n",
      "File \u001b[0;32m/Library/Frameworks/Python.framework/Versions/3.10/lib/python3.10/site-packages/pandas/core/series.py:4816\u001b[0m, in \u001b[0;36mSeries._reduce\u001b[0;34m(self, op, name, axis, skipna, numeric_only, filter_type, **kwds)\u001b[0m\n\u001b[1;32m   4812\u001b[0m     \u001b[39mraise\u001b[39;00m \u001b[39mNotImplementedError\u001b[39;00m(\n\u001b[1;32m   4813\u001b[0m         \u001b[39mf\u001b[39m\u001b[39m\"\u001b[39m\u001b[39mSeries.\u001b[39m\u001b[39m{\u001b[39;00mname\u001b[39m}\u001b[39;00m\u001b[39m does not implement \u001b[39m\u001b[39m{\u001b[39;00mkwd_name\u001b[39m}\u001b[39;00m\u001b[39m.\u001b[39m\u001b[39m\"\u001b[39m\n\u001b[1;32m   4814\u001b[0m     )\n\u001b[1;32m   4815\u001b[0m \u001b[39mwith\u001b[39;00m np\u001b[39m.\u001b[39merrstate(\u001b[39mall\u001b[39m\u001b[39m=\u001b[39m\u001b[39m\"\u001b[39m\u001b[39mignore\u001b[39m\u001b[39m\"\u001b[39m):\n\u001b[0;32m-> 4816\u001b[0m     \u001b[39mreturn\u001b[39;00m op(delegate, skipna\u001b[39m=\u001b[39;49mskipna, \u001b[39m*\u001b[39;49m\u001b[39m*\u001b[39;49mkwds)\n",
      "File \u001b[0;32m/Library/Frameworks/Python.framework/Versions/3.10/lib/python3.10/site-packages/pandas/core/nanops.py:155\u001b[0m, in \u001b[0;36mbottleneck_switch.__call__.<locals>.f\u001b[0;34m(values, axis, skipna, **kwds)\u001b[0m\n\u001b[1;32m    153\u001b[0m         result \u001b[39m=\u001b[39m alt(values, axis\u001b[39m=\u001b[39maxis, skipna\u001b[39m=\u001b[39mskipna, \u001b[39m*\u001b[39m\u001b[39m*\u001b[39mkwds)\n\u001b[1;32m    154\u001b[0m \u001b[39melse\u001b[39;00m:\n\u001b[0;32m--> 155\u001b[0m     result \u001b[39m=\u001b[39m alt(values, axis\u001b[39m=\u001b[39;49maxis, skipna\u001b[39m=\u001b[39;49mskipna, \u001b[39m*\u001b[39;49m\u001b[39m*\u001b[39;49mkwds)\n\u001b[1;32m    157\u001b[0m \u001b[39mreturn\u001b[39;00m result\n",
      "File \u001b[0;32m/Library/Frameworks/Python.framework/Versions/3.10/lib/python3.10/site-packages/pandas/core/nanops.py:906\u001b[0m, in \u001b[0;36mnanstd\u001b[0;34m(values, axis, skipna, ddof, mask)\u001b[0m\n\u001b[1;32m    903\u001b[0m orig_dtype \u001b[39m=\u001b[39m values\u001b[39m.\u001b[39mdtype\n\u001b[1;32m    904\u001b[0m values, mask, _, _, _ \u001b[39m=\u001b[39m _get_values(values, skipna, mask\u001b[39m=\u001b[39mmask)\n\u001b[0;32m--> 906\u001b[0m result \u001b[39m=\u001b[39m np\u001b[39m.\u001b[39msqrt(nanvar(values, axis\u001b[39m=\u001b[39;49maxis, skipna\u001b[39m=\u001b[39;49mskipna, ddof\u001b[39m=\u001b[39;49mddof, mask\u001b[39m=\u001b[39;49mmask))\n\u001b[1;32m    907\u001b[0m \u001b[39mreturn\u001b[39;00m _wrap_results(result, orig_dtype)\n",
      "File \u001b[0;32m/Library/Frameworks/Python.framework/Versions/3.10/lib/python3.10/site-packages/pandas/core/nanops.py:93\u001b[0m, in \u001b[0;36mdisallow.__call__.<locals>._f\u001b[0;34m(*args, **kwargs)\u001b[0m\n\u001b[1;32m     91\u001b[0m \u001b[39mtry\u001b[39;00m:\n\u001b[1;32m     92\u001b[0m     \u001b[39mwith\u001b[39;00m np\u001b[39m.\u001b[39merrstate(invalid\u001b[39m=\u001b[39m\u001b[39m\"\u001b[39m\u001b[39mignore\u001b[39m\u001b[39m\"\u001b[39m):\n\u001b[0;32m---> 93\u001b[0m         \u001b[39mreturn\u001b[39;00m f(\u001b[39m*\u001b[39;49margs, \u001b[39m*\u001b[39;49m\u001b[39m*\u001b[39;49mkwargs)\n\u001b[1;32m     94\u001b[0m \u001b[39mexcept\u001b[39;00m \u001b[39mValueError\u001b[39;00m \u001b[39mas\u001b[39;00m e:\n\u001b[1;32m     95\u001b[0m     \u001b[39m# we want to transform an object array\u001b[39;00m\n\u001b[1;32m     96\u001b[0m     \u001b[39m# ValueError message to the more typical TypeError\u001b[39;00m\n\u001b[1;32m     97\u001b[0m     \u001b[39m# e.g. this is normally a disallowed function on\u001b[39;00m\n\u001b[1;32m     98\u001b[0m     \u001b[39m# object arrays that contain strings\u001b[39;00m\n\u001b[1;32m     99\u001b[0m     \u001b[39mif\u001b[39;00m is_object_dtype(args[\u001b[39m0\u001b[39m]):\n",
      "File \u001b[0;32m/Library/Frameworks/Python.framework/Versions/3.10/lib/python3.10/site-packages/pandas/core/nanops.py:155\u001b[0m, in \u001b[0;36mbottleneck_switch.__call__.<locals>.f\u001b[0;34m(values, axis, skipna, **kwds)\u001b[0m\n\u001b[1;32m    153\u001b[0m         result \u001b[39m=\u001b[39m alt(values, axis\u001b[39m=\u001b[39maxis, skipna\u001b[39m=\u001b[39mskipna, \u001b[39m*\u001b[39m\u001b[39m*\u001b[39mkwds)\n\u001b[1;32m    154\u001b[0m \u001b[39melse\u001b[39;00m:\n\u001b[0;32m--> 155\u001b[0m     result \u001b[39m=\u001b[39m alt(values, axis\u001b[39m=\u001b[39;49maxis, skipna\u001b[39m=\u001b[39;49mskipna, \u001b[39m*\u001b[39;49m\u001b[39m*\u001b[39;49mkwds)\n\u001b[1;32m    157\u001b[0m \u001b[39mreturn\u001b[39;00m result\n",
      "File \u001b[0;32m/Library/Frameworks/Python.framework/Versions/3.10/lib/python3.10/site-packages/pandas/core/nanops.py:968\u001b[0m, in \u001b[0;36mnanvar\u001b[0;34m(values, axis, skipna, ddof, mask)\u001b[0m\n\u001b[1;32m    966\u001b[0m sqr \u001b[39m=\u001b[39m _ensure_numeric((avg \u001b[39m-\u001b[39m values) \u001b[39m*\u001b[39m\u001b[39m*\u001b[39m \u001b[39m2\u001b[39m)\n\u001b[1;32m    967\u001b[0m \u001b[39mif\u001b[39;00m mask \u001b[39mis\u001b[39;00m \u001b[39mnot\u001b[39;00m \u001b[39mNone\u001b[39;00m:\n\u001b[0;32m--> 968\u001b[0m     np\u001b[39m.\u001b[39;49mputmask(sqr, mask, \u001b[39m0\u001b[39;49m)\n\u001b[1;32m    969\u001b[0m result \u001b[39m=\u001b[39m sqr\u001b[39m.\u001b[39msum(axis\u001b[39m=\u001b[39maxis, dtype\u001b[39m=\u001b[39mnp\u001b[39m.\u001b[39mfloat64) \u001b[39m/\u001b[39m d\n\u001b[1;32m    971\u001b[0m \u001b[39m# Return variance as np.float64 (the datatype used in the accumulator),\u001b[39;00m\n\u001b[1;32m    972\u001b[0m \u001b[39m# unless we were dealing with a float array, in which case use the same\u001b[39;00m\n\u001b[1;32m    973\u001b[0m \u001b[39m# precision as the original values array.\u001b[39;00m\n",
      "File \u001b[0;32m<__array_function__ internals>:180\u001b[0m, in \u001b[0;36mputmask\u001b[0;34m(*args, **kwargs)\u001b[0m\n",
      "\u001b[0;31mKeyboardInterrupt\u001b[0m: "
     ]
    }
   ],
   "source": [
    "# loop to remove outliers x times\n",
    "x = 4\n",
    "n = 1\n",
    "while n <= x:\n",
    "    nr_arr = waittimes[\"SPOSTMIN\"].to_numpy()\n",
    "    indices = []\n",
    "    for index in range(1,len(nr_arr)):\n",
    "        if (nr_arr[index] - nr_arr[index-1]) > (waittimes[\"SPOSTMIN\"].std() * 2):\n",
    "            indices.append(index)\n",
    "    waittimes = waittimes.drop((indices), axis=0)\n",
    "    n += 1\n",
    "\n",
    "waittimes.shape"
   ]
  },
  {
   "cell_type": "code",
   "execution_count": null,
   "metadata": {},
   "outputs": [],
   "source": [
    "waittimes = imputation(waittimes)"
   ]
  },
  {
   "cell_type": "code",
   "execution_count": 10,
   "metadata": {},
   "outputs": [
    {
     "data": {
      "text/plain": [
       "0        2021.0\n",
       "1        2021.0\n",
       "2        2021.0\n",
       "3        2021.0\n",
       "4        2021.0\n",
       "          ...  \n",
       "26868    2021.0\n",
       "26869    2021.0\n",
       "26870    2021.0\n",
       "26871    2021.0\n",
       "26872    2021.0\n",
       "Name: YEAR, Length: 26873, dtype: float64"
      ]
     },
     "execution_count": 10,
     "metadata": {},
     "output_type": "execute_result"
    }
   ],
   "source": [
    "# test set 2021\n",
    "test = waittimes.loc[waittimes[\"YEAR\"].isin(range(2021,2022))].reset_index(drop=True)\n",
    "test[\"YEAR\"]\n"
   ]
  },
  {
   "cell_type": "code",
   "execution_count": 11,
   "metadata": {},
   "outputs": [
    {
     "data": {
      "text/plain": [
       "0"
      ]
     },
     "execution_count": 11,
     "metadata": {},
     "output_type": "execute_result"
    }
   ],
   "source": [
    "test.isna().sum().sum()"
   ]
  },
  {
   "cell_type": "code",
   "execution_count": 15,
   "metadata": {},
   "outputs": [
    {
     "data": {
      "text/plain": [
       "0        2019.0\n",
       "1        2019.0\n",
       "2        2019.0\n",
       "3        2019.0\n",
       "4        2019.0\n",
       "          ...  \n",
       "58741    2020.0\n",
       "58742    2020.0\n",
       "58743    2020.0\n",
       "58744    2020.0\n",
       "58745    2020.0\n",
       "Name: YEAR, Length: 58746, dtype: float64"
      ]
     },
     "execution_count": 15,
     "metadata": {},
     "output_type": "execute_result"
    }
   ],
   "source": [
    "# train set 2019-2020\n",
    "waittimes = waittimes.loc[waittimes[\"YEAR\"].isin(range(2019,2021))].reset_index(drop=True)\n",
    "waittimes[\"YEAR\"]\n"
   ]
  },
  {
   "cell_type": "code",
   "execution_count": 16,
   "metadata": {},
   "outputs": [
    {
     "data": {
      "text/plain": [
       "0"
      ]
     },
     "execution_count": 16,
     "metadata": {},
     "output_type": "execute_result"
    }
   ],
   "source": [
    "waittimes.isna().sum().sum()"
   ]
  },
  {
   "cell_type": "markdown",
   "metadata": {},
   "source": [
    "Spearman's rank correlation (Spearman's Rho)\n",
    "\n",
    "-> works for non-linear relations, measures the monotonic relation between a pair of variables "
   ]
  },
  {
   "cell_type": "code",
   "execution_count": 17,
   "metadata": {},
   "outputs": [],
   "source": [
    "from scipy import stats\n",
    "\n",
    "X = waittimes.loc[:, waittimes.columns != \"SPOSTMIN\"]\n",
    "y = waittimes['SPOSTMIN']\n",
    "\n",
    "#x_train, x_test, y_train, y_test = train_test_split(X, y, test_size = 0.25)\n",
    "# applying Spearman correlation to data\n",
    "rho_matrix = X.corr(method=\"spearman\")\n",
    "# print(rho_matrix)\n",
    "# prints the rho coefficient for every feature in correlation with another"
   ]
  },
  {
   "cell_type": "code",
   "execution_count": null,
   "metadata": {},
   "outputs": [],
   "source": [
    "# function to get the names of features with a correlation over a chosen threshold\n",
    "def correlation(dataset, threshold):\n",
    "    col_corr = set()  # Set of all the names of correlated columns\n",
    "    corr_matrix = dataset.corr()\n",
    "    for i in range(len(corr_matrix.columns)):\n",
    "        for j in range(i):\n",
    "            if abs(corr_matrix.iloc[i, j]) > threshold: # we are interested in absolute coeff value\n",
    "                colname = corr_matrix.columns[i]  # getting the name of column\n",
    "                col_corr.add(colname)\n",
    "    return col_corr\n",
    "\n",
    "# n = chosen threshold\n",
    "n = 0.95\n",
    "corr_features = correlation(X, n)\n",
    "print(str(len(set(corr_features))) + \" have a correlation over \" + str(n))\n",
    "#print(corr_features)"
   ]
  },
  {
   "cell_type": "code",
   "execution_count": null,
   "metadata": {},
   "outputs": [],
   "source": [
    "# dropping the features with correlation over the chosen threshold\n",
    "X.drop(corr_features,axis=1)\n",
    "#y.drop(corr_features,axis=1)"
   ]
  },
  {
   "cell_type": "code",
   "execution_count": 18,
   "metadata": {},
   "outputs": [
    {
     "name": "stdout",
     "output_type": "stream",
     "text": [
      "RMSE: 2.81\n",
      "R_squared: 0.98\n"
     ]
    }
   ],
   "source": [
    "# applying random forest to selected features\n",
    "rf = RandomForestRegressor(n_estimators=10, max_depth=50, n_jobs=-1, random_state=42)\n",
    "rf.fit(X, y)\n",
    "y_pred = rf.predict(X)\n",
    "\n",
    "# r2 value is the same as random forest without feature selection\n",
    "print(\"RMSE: \" + str(round(sqrt(mean_squared_error(y, y_pred)), 2)))\n",
    "print(\"R_squared: \" + str(round(r2_score(y, y_pred), 2)))"
   ]
  },
  {
   "cell_type": "markdown",
   "metadata": {},
   "source": [
    "Applying model on test data"
   ]
  },
  {
   "cell_type": "code",
   "execution_count": 19,
   "metadata": {},
   "outputs": [],
   "source": [
    "rfc_base = rf.fit(X, y)"
   ]
  },
  {
   "cell_type": "code",
   "execution_count": 20,
   "metadata": {},
   "outputs": [],
   "source": [
    "import pickle\n",
    "with open('rfc_model_pkl', 'wb') as files:\n",
    "   pickle.dump(rfc_base, files)"
   ]
  },
  {
   "cell_type": "code",
   "execution_count": 21,
   "metadata": {},
   "outputs": [],
   "source": [
    "with open('rfc_model_pkl' , 'rb') as f:\n",
    "   rfc_pretrained = pickle.load(f)"
   ]
  },
  {
   "cell_type": "code",
   "execution_count": 22,
   "metadata": {},
   "outputs": [],
   "source": [
    "X_test = test.loc[:, test.columns != \"SPOSTMIN\"]\n",
    "y_test = test['SPOSTMIN']"
   ]
  },
  {
   "cell_type": "code",
   "execution_count": 23,
   "metadata": {},
   "outputs": [
    {
     "ename": "NameError",
     "evalue": "name 'corr_features' is not defined",
     "output_type": "error",
     "traceback": [
      "\u001b[0;31m---------------------------------------------------------------------------\u001b[0m",
      "\u001b[0;31mNameError\u001b[0m                                 Traceback (most recent call last)",
      "Cell \u001b[0;32mIn [23], line 1\u001b[0m\n\u001b[0;32m----> 1\u001b[0m X_test\u001b[38;5;241m.\u001b[39mdrop(\u001b[43mcorr_features\u001b[49m,axis\u001b[38;5;241m=\u001b[39m\u001b[38;5;241m1\u001b[39m)\n",
      "\u001b[0;31mNameError\u001b[0m: name 'corr_features' is not defined"
     ]
    }
   ],
   "source": [
    "X_test.drop(corr_features,axis=1)"
   ]
  },
  {
   "cell_type": "code",
   "execution_count": 24,
   "metadata": {},
   "outputs": [],
   "source": [
    "y_pred_pretrained=rfc_pretrained.predict(X_test)"
   ]
  },
  {
   "cell_type": "code",
   "execution_count": 25,
   "metadata": {},
   "outputs": [
    {
     "name": "stdout",
     "output_type": "stream",
     "text": [
      "RMSE: 13.07\n",
      "R_squared: 0.33\n"
     ]
    }
   ],
   "source": [
    "print(\"RMSE: \" + str(round(sqrt(mean_squared_error(y_test, y_pred_pretrained)), 2)))\n",
    "print(\"R_squared: \" + str(round(r2_score(y_test, y_pred_pretrained), 2)))"
   ]
  }
 ],
 "metadata": {
  "kernelspec": {
   "display_name": "Python 3.10.6 64-bit",
   "language": "python",
   "name": "python3"
  },
  "language_info": {
   "codemirror_mode": {
    "name": "ipython",
    "version": 3
   },
   "file_extension": ".py",
   "mimetype": "text/x-python",
   "name": "python",
   "nbconvert_exporter": "python",
   "pygments_lexer": "ipython3",
   "version": "3.10.6"
  },
  "orig_nbformat": 4,
  "vscode": {
   "interpreter": {
    "hash": "aee8b7b246df8f9039afb4144a1f6fd8d2ca17a180786b69acc140d282b71a49"
   }
  }
 },
 "nbformat": 4,
 "nbformat_minor": 2
}
