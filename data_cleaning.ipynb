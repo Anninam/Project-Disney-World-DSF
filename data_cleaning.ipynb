{
 "cells": [
  {
   "cell_type": "code",
   "execution_count": 1,
   "metadata": {},
   "outputs": [],
   "source": [
    "import pandas as pd \n",
    "import numpy as np\n",
    "import datetime\n",
    "from sklearn.preprocessing import OneHotEncoder\n",
    "from sklearn.compose import make_column_transformer"
   ]
  },
  {
   "cell_type": "code",
   "execution_count": 2,
   "metadata": {},
   "outputs": [],
   "source": [
    "metadata = pd.read_csv(\"../Project-Disney-World-DSF/metadata.csv\")\n",
    "hauntedhouse = pd.read_csv(\"../Project-Disney-World-DSF/haunted_mansion[87].csv\")"
   ]
  },
  {
   "cell_type": "markdown",
   "metadata": {},
   "source": [
    "**Preparing Haunted House Data**"
   ]
  },
  {
   "cell_type": "code",
   "execution_count": 3,
   "metadata": {},
   "outputs": [
    {
     "data": {
      "text/plain": [
       "(319956, 3)"
      ]
     },
     "execution_count": 3,
     "metadata": {},
     "output_type": "execute_result"
    }
   ],
   "source": [
    "#compute percentage of na-values per column; result: 96.59% of actual waiting times are na\n",
    "hauntedhouse.isna().mean()\n",
    "\n",
    "#extract and drop SACTMIN column from Df\n",
    "act_times = hauntedhouse.copy()[\"SACTMIN\"]\n",
    "hauntedhouse = hauntedhouse.drop([\"SACTMIN\"], axis=1)\n",
    "hauntedhouse.shape"
   ]
  },
  {
   "cell_type": "code",
   "execution_count": 4,
   "metadata": {},
   "outputs": [],
   "source": [
    "#format column date\n",
    "hauntedhouse['date'] = pd.to_datetime(hauntedhouse['date'])\n",
    "#format column datetime\n",
    "hauntedhouse['datetime'] = pd.to_datetime(hauntedhouse['datetime'])\n"
   ]
  },
  {
   "cell_type": "markdown",
   "metadata": {},
   "source": [
    "Handling Missing Data in Haunted House"
   ]
  },
  {
   "cell_type": "code",
   "execution_count": 5,
   "metadata": {},
   "outputs": [
    {
     "data": {
      "text/html": [
       "<div>\n",
       "<style scoped>\n",
       "    .dataframe tbody tr th:only-of-type {\n",
       "        vertical-align: middle;\n",
       "    }\n",
       "\n",
       "    .dataframe tbody tr th {\n",
       "        vertical-align: top;\n",
       "    }\n",
       "\n",
       "    .dataframe thead th {\n",
       "        text-align: right;\n",
       "    }\n",
       "</style>\n",
       "<table border=\"1\" class=\"dataframe\">\n",
       "  <thead>\n",
       "    <tr style=\"text-align: right;\">\n",
       "      <th></th>\n",
       "      <th>date</th>\n",
       "      <th>datetime</th>\n",
       "      <th>SPOSTMIN</th>\n",
       "    </tr>\n",
       "  </thead>\n",
       "  <tbody>\n",
       "    <tr>\n",
       "      <th>0</th>\n",
       "      <td>2015-01-01</td>\n",
       "      <td>2015-01-01 08:23:09</td>\n",
       "      <td>10.0</td>\n",
       "    </tr>\n",
       "    <tr>\n",
       "      <th>1</th>\n",
       "      <td>2015-01-01</td>\n",
       "      <td>2015-01-01 08:37:13</td>\n",
       "      <td>10.0</td>\n",
       "    </tr>\n",
       "    <tr>\n",
       "      <th>2</th>\n",
       "      <td>2015-01-01</td>\n",
       "      <td>2015-01-01 08:37:31</td>\n",
       "      <td>10.0</td>\n",
       "    </tr>\n",
       "    <tr>\n",
       "      <th>3</th>\n",
       "      <td>2015-01-01</td>\n",
       "      <td>2015-01-01 08:44:11</td>\n",
       "      <td>10.0</td>\n",
       "    </tr>\n",
       "    <tr>\n",
       "      <th>4</th>\n",
       "      <td>2015-01-01</td>\n",
       "      <td>2015-01-01 08:51:12</td>\n",
       "      <td>10.0</td>\n",
       "    </tr>\n",
       "    <tr>\n",
       "      <th>...</th>\n",
       "      <td>...</td>\n",
       "      <td>...</td>\n",
       "      <td>...</td>\n",
       "    </tr>\n",
       "    <tr>\n",
       "      <th>319951</th>\n",
       "      <td>2021-12-28</td>\n",
       "      <td>2021-12-28 22:36:08</td>\n",
       "      <td>13.0</td>\n",
       "    </tr>\n",
       "    <tr>\n",
       "      <th>319952</th>\n",
       "      <td>2021-12-28</td>\n",
       "      <td>2021-12-28 22:42:15</td>\n",
       "      <td>13.0</td>\n",
       "    </tr>\n",
       "    <tr>\n",
       "      <th>319953</th>\n",
       "      <td>2021-12-28</td>\n",
       "      <td>2021-12-28 22:48:12</td>\n",
       "      <td>13.0</td>\n",
       "    </tr>\n",
       "    <tr>\n",
       "      <th>319954</th>\n",
       "      <td>2021-12-28</td>\n",
       "      <td>2021-12-28 22:54:10</td>\n",
       "      <td>13.0</td>\n",
       "    </tr>\n",
       "    <tr>\n",
       "      <th>319955</th>\n",
       "      <td>2021-12-28</td>\n",
       "      <td>2021-12-28 23:00:27</td>\n",
       "      <td>13.0</td>\n",
       "    </tr>\n",
       "  </tbody>\n",
       "</table>\n",
       "<p>319956 rows × 3 columns</p>\n",
       "</div>"
      ],
      "text/plain": [
       "             date            datetime  SPOSTMIN\n",
       "0      2015-01-01 2015-01-01 08:23:09      10.0\n",
       "1      2015-01-01 2015-01-01 08:37:13      10.0\n",
       "2      2015-01-01 2015-01-01 08:37:31      10.0\n",
       "3      2015-01-01 2015-01-01 08:44:11      10.0\n",
       "4      2015-01-01 2015-01-01 08:51:12      10.0\n",
       "...           ...                 ...       ...\n",
       "319951 2021-12-28 2021-12-28 22:36:08      13.0\n",
       "319952 2021-12-28 2021-12-28 22:42:15      13.0\n",
       "319953 2021-12-28 2021-12-28 22:48:12      13.0\n",
       "319954 2021-12-28 2021-12-28 22:54:10      13.0\n",
       "319955 2021-12-28 2021-12-28 23:00:27      13.0\n",
       "\n",
       "[319956 rows x 3 columns]"
      ]
     },
     "execution_count": 5,
     "metadata": {},
     "output_type": "execute_result"
    }
   ],
   "source": [
    "#missing values are coded as -999; dataset does NOT include observations during covid-19 closure time\n",
    "#imputation with ...\n",
    "\n",
    "hauntedhouse.loc[hauntedhouse['SPOSTMIN'] == -999,'SPOSTMIN'] = np.nan\n",
    "hauntedhouse[\"SPOSTMIN\"] = hauntedhouse[\"SPOSTMIN\"].fillna(method='bfill')\n",
    "hauntedhouse[\"SPOSTMIN\"] = hauntedhouse[\"SPOSTMIN\"].fillna(hauntedhouse[\"SPOSTMIN\"].median())\n",
    "                \n",
    "hauntedhouse    "
   ]
  },
  {
   "cell_type": "markdown",
   "metadata": {},
   "source": [
    "**Preparing Metadata**"
   ]
  },
  {
   "cell_type": "code",
   "execution_count": 23,
   "metadata": {},
   "outputs": [
    {
     "data": {
      "text/plain": [
       "HOLIDAYJ                0.979798\n",
       "AKeventN                0.966811\n",
       "WDWRaceN                0.958153\n",
       "HOLIDAYN                0.897066\n",
       "WDWeventN               0.881193\n",
       "MKeventN                0.743627\n",
       "MKPRDNN                 0.653199\n",
       "AKSHWNN                 0.424723\n",
       "EPeventN                0.417508\n",
       "WDW_TICKET_SEASON       0.414141\n",
       "WDWTICKETSEASON         0.366041\n",
       "SEASON                  0.121693\n",
       "MKPRDDN                 0.088023\n",
       "MKFIREN                 0.064454\n",
       "EPFIREN                 0.060606\n",
       "inSession_Drive1_FL     0.050505\n",
       "inSession_Central_FL    0.050505\n",
       "inSession_DC            0.050505\n",
       "inSession_Drive2_FL     0.050505\n",
       "inSession_Drive_CA      0.050505\n",
       "dtype: float64"
      ]
     },
     "execution_count": 23,
     "metadata": {},
     "output_type": "execute_result"
    }
   ],
   "source": [
    "#looking at percentage of na-values per column\n",
    "metadata.isna().mean().sort_values(ascending=False).head(20)\n",
    "#metadata.shape"
   ]
  },
  {
   "cell_type": "code",
   "execution_count": 7,
   "metadata": {},
   "outputs": [
    {
     "data": {
      "text/plain": [
       "(2079, 145)"
      ]
     },
     "execution_count": 7,
     "metadata": {},
     "output_type": "execute_result"
    }
   ],
   "source": [
    "#remove variables related to Hollywood Studios Park in California (and not Walt Disney World in Florida)\n",
    "metadata.columns.str.startswith('HS').sum() \n",
    "metadata.columns.str.endswith('_HS').sum() \n",
    "\n",
    "metadata = metadata.loc[:, ~metadata.columns.str.startswith('HS')]\n",
    "metadata = metadata.loc[:, ~metadata.columns.str.endswith('_HS')]\n",
    "\n",
    "metadata.shape"
   ]
  },
  {
   "cell_type": "code",
   "execution_count": 11,
   "metadata": {},
   "outputs": [
    {
     "data": {
      "text/plain": [
       "(2079, 141)"
      ]
     },
     "execution_count": 11,
     "metadata": {},
     "output_type": "execute_result"
    }
   ],
   "source": [
    "#filter out columns with all na-values\n",
    "metadata.dropna(axis=1, how='all', inplace=True) #-> 6\n",
    "\n",
    "#format date\n",
    "metadata['DATE'] = pd.to_datetime(metadata['DATE'])\n",
    "\n",
    "\n",
    "metadata.shape"
   ]
  },
  {
   "cell_type": "code",
   "execution_count": 12,
   "metadata": {},
   "outputs": [
    {
     "data": {
      "text/html": [
       "<div>\n",
       "<style scoped>\n",
       "    .dataframe tbody tr th:only-of-type {\n",
       "        vertical-align: middle;\n",
       "    }\n",
       "\n",
       "    .dataframe tbody tr th {\n",
       "        vertical-align: top;\n",
       "    }\n",
       "\n",
       "    .dataframe thead th {\n",
       "        text-align: right;\n",
       "    }\n",
       "</style>\n",
       "<table border=\"1\" class=\"dataframe\">\n",
       "  <thead>\n",
       "    <tr style=\"text-align: right;\">\n",
       "      <th></th>\n",
       "      <th>DATE</th>\n",
       "      <th>WDW_TICKET_SEASON</th>\n",
       "      <th>DAYOFWEEK</th>\n",
       "      <th>DAYOFYEAR</th>\n",
       "      <th>WEEKOFYEAR</th>\n",
       "      <th>MONTHOFYEAR</th>\n",
       "      <th>YEAR</th>\n",
       "      <th>SEASON</th>\n",
       "      <th>HOLIDAYPX</th>\n",
       "      <th>HOLIDAYM</th>\n",
       "      <th>...</th>\n",
       "      <th>MKFIREN</th>\n",
       "      <th>EPFIREWK</th>\n",
       "      <th>EPFIRET1</th>\n",
       "      <th>EPFIRET2</th>\n",
       "      <th>EPFIREN</th>\n",
       "      <th>AKPRDDAY</th>\n",
       "      <th>AKSHWNGT</th>\n",
       "      <th>AKSHWNT1</th>\n",
       "      <th>AKSHWNT2</th>\n",
       "      <th>AKSHWNN</th>\n",
       "    </tr>\n",
       "  </thead>\n",
       "  <tbody>\n",
       "    <tr>\n",
       "      <th>0</th>\n",
       "      <td>2015-01-01</td>\n",
       "      <td>NaN</td>\n",
       "      <td>5</td>\n",
       "      <td>0</td>\n",
       "      <td>0</td>\n",
       "      <td>1</td>\n",
       "      <td>2015</td>\n",
       "      <td>CHRISTMAS PEAK</td>\n",
       "      <td>0</td>\n",
       "      <td>5</td>\n",
       "      <td>...</td>\n",
       "      <td>Wishes Nighttime Spectacular</td>\n",
       "      <td>1</td>\n",
       "      <td>21:00</td>\n",
       "      <td>99</td>\n",
       "      <td>IllumiNations: Reflections of Earth</td>\n",
       "      <td>0</td>\n",
       "      <td>0</td>\n",
       "      <td>99</td>\n",
       "      <td>99</td>\n",
       "      <td>NaN</td>\n",
       "    </tr>\n",
       "    <tr>\n",
       "      <th>1</th>\n",
       "      <td>2015-01-02</td>\n",
       "      <td>NaN</td>\n",
       "      <td>6</td>\n",
       "      <td>1</td>\n",
       "      <td>0</td>\n",
       "      <td>1</td>\n",
       "      <td>2015</td>\n",
       "      <td>CHRISTMAS</td>\n",
       "      <td>2</td>\n",
       "      <td>5</td>\n",
       "      <td>...</td>\n",
       "      <td>Wishes Nighttime Spectacular</td>\n",
       "      <td>1</td>\n",
       "      <td>21:00</td>\n",
       "      <td>99</td>\n",
       "      <td>IllumiNations: Reflections of Earth</td>\n",
       "      <td>0</td>\n",
       "      <td>0</td>\n",
       "      <td>99</td>\n",
       "      <td>99</td>\n",
       "      <td>NaN</td>\n",
       "    </tr>\n",
       "    <tr>\n",
       "      <th>2</th>\n",
       "      <td>2015-01-03</td>\n",
       "      <td>NaN</td>\n",
       "      <td>7</td>\n",
       "      <td>2</td>\n",
       "      <td>0</td>\n",
       "      <td>1</td>\n",
       "      <td>2015</td>\n",
       "      <td>CHRISTMAS</td>\n",
       "      <td>3</td>\n",
       "      <td>0</td>\n",
       "      <td>...</td>\n",
       "      <td>Wishes Nighttime Spectacular</td>\n",
       "      <td>1</td>\n",
       "      <td>21:00</td>\n",
       "      <td>99</td>\n",
       "      <td>IllumiNations: Reflections of Earth</td>\n",
       "      <td>0</td>\n",
       "      <td>0</td>\n",
       "      <td>99</td>\n",
       "      <td>99</td>\n",
       "      <td>NaN</td>\n",
       "    </tr>\n",
       "    <tr>\n",
       "      <th>3</th>\n",
       "      <td>2015-01-04</td>\n",
       "      <td>NaN</td>\n",
       "      <td>1</td>\n",
       "      <td>3</td>\n",
       "      <td>1</td>\n",
       "      <td>1</td>\n",
       "      <td>2015</td>\n",
       "      <td>CHRISTMAS</td>\n",
       "      <td>4</td>\n",
       "      <td>0</td>\n",
       "      <td>...</td>\n",
       "      <td>Wishes Nighttime Spectacular</td>\n",
       "      <td>1</td>\n",
       "      <td>21:00</td>\n",
       "      <td>99</td>\n",
       "      <td>IllumiNations: Reflections of Earth</td>\n",
       "      <td>0</td>\n",
       "      <td>0</td>\n",
       "      <td>99</td>\n",
       "      <td>99</td>\n",
       "      <td>NaN</td>\n",
       "    </tr>\n",
       "    <tr>\n",
       "      <th>4</th>\n",
       "      <td>2015-01-05</td>\n",
       "      <td>NaN</td>\n",
       "      <td>2</td>\n",
       "      <td>4</td>\n",
       "      <td>1</td>\n",
       "      <td>1</td>\n",
       "      <td>2015</td>\n",
       "      <td>CHRISTMAS</td>\n",
       "      <td>5</td>\n",
       "      <td>0</td>\n",
       "      <td>...</td>\n",
       "      <td>Wishes Nighttime Spectacular</td>\n",
       "      <td>1</td>\n",
       "      <td>21:00</td>\n",
       "      <td>99</td>\n",
       "      <td>IllumiNations: Reflections of Earth</td>\n",
       "      <td>0</td>\n",
       "      <td>0</td>\n",
       "      <td>99</td>\n",
       "      <td>99</td>\n",
       "      <td>NaN</td>\n",
       "    </tr>\n",
       "    <tr>\n",
       "      <th>...</th>\n",
       "      <td>...</td>\n",
       "      <td>...</td>\n",
       "      <td>...</td>\n",
       "      <td>...</td>\n",
       "      <td>...</td>\n",
       "      <td>...</td>\n",
       "      <td>...</td>\n",
       "      <td>...</td>\n",
       "      <td>...</td>\n",
       "      <td>...</td>\n",
       "      <td>...</td>\n",
       "      <td>...</td>\n",
       "      <td>...</td>\n",
       "      <td>...</td>\n",
       "      <td>...</td>\n",
       "      <td>...</td>\n",
       "      <td>...</td>\n",
       "      <td>...</td>\n",
       "      <td>...</td>\n",
       "      <td>...</td>\n",
       "      <td>...</td>\n",
       "    </tr>\n",
       "    <tr>\n",
       "      <th>2074</th>\n",
       "      <td>2021-08-27</td>\n",
       "      <td>NaN</td>\n",
       "      <td>6</td>\n",
       "      <td>238</td>\n",
       "      <td>34</td>\n",
       "      <td>8</td>\n",
       "      <td>2021</td>\n",
       "      <td>NaN</td>\n",
       "      <td>11</td>\n",
       "      <td>0</td>\n",
       "      <td>...</td>\n",
       "      <td>Happily Ever After</td>\n",
       "      <td>1</td>\n",
       "      <td>22:00</td>\n",
       "      <td>99</td>\n",
       "      <td>Epcot Forever</td>\n",
       "      <td>0</td>\n",
       "      <td>0</td>\n",
       "      <td>99</td>\n",
       "      <td>99</td>\n",
       "      <td>NaN</td>\n",
       "    </tr>\n",
       "    <tr>\n",
       "      <th>2075</th>\n",
       "      <td>2021-08-28</td>\n",
       "      <td>NaN</td>\n",
       "      <td>7</td>\n",
       "      <td>239</td>\n",
       "      <td>34</td>\n",
       "      <td>8</td>\n",
       "      <td>2021</td>\n",
       "      <td>NaN</td>\n",
       "      <td>10</td>\n",
       "      <td>0</td>\n",
       "      <td>...</td>\n",
       "      <td>Happily Ever After</td>\n",
       "      <td>1</td>\n",
       "      <td>22:00</td>\n",
       "      <td>99</td>\n",
       "      <td>Epcot Forever</td>\n",
       "      <td>0</td>\n",
       "      <td>0</td>\n",
       "      <td>99</td>\n",
       "      <td>99</td>\n",
       "      <td>NaN</td>\n",
       "    </tr>\n",
       "    <tr>\n",
       "      <th>2076</th>\n",
       "      <td>2021-08-29</td>\n",
       "      <td>NaN</td>\n",
       "      <td>1</td>\n",
       "      <td>240</td>\n",
       "      <td>35</td>\n",
       "      <td>8</td>\n",
       "      <td>2021</td>\n",
       "      <td>NaN</td>\n",
       "      <td>9</td>\n",
       "      <td>0</td>\n",
       "      <td>...</td>\n",
       "      <td>Happily Ever After</td>\n",
       "      <td>1</td>\n",
       "      <td>22:00</td>\n",
       "      <td>99</td>\n",
       "      <td>Epcot Forever</td>\n",
       "      <td>0</td>\n",
       "      <td>0</td>\n",
       "      <td>99</td>\n",
       "      <td>99</td>\n",
       "      <td>NaN</td>\n",
       "    </tr>\n",
       "    <tr>\n",
       "      <th>2077</th>\n",
       "      <td>2021-08-30</td>\n",
       "      <td>NaN</td>\n",
       "      <td>2</td>\n",
       "      <td>241</td>\n",
       "      <td>35</td>\n",
       "      <td>8</td>\n",
       "      <td>2021</td>\n",
       "      <td>NaN</td>\n",
       "      <td>8</td>\n",
       "      <td>0</td>\n",
       "      <td>...</td>\n",
       "      <td>Happily Ever After</td>\n",
       "      <td>1</td>\n",
       "      <td>21:00</td>\n",
       "      <td>99</td>\n",
       "      <td>Epcot Forever</td>\n",
       "      <td>0</td>\n",
       "      <td>0</td>\n",
       "      <td>99</td>\n",
       "      <td>99</td>\n",
       "      <td>NaN</td>\n",
       "    </tr>\n",
       "    <tr>\n",
       "      <th>2078</th>\n",
       "      <td>2021-08-31</td>\n",
       "      <td>NaN</td>\n",
       "      <td>3</td>\n",
       "      <td>242</td>\n",
       "      <td>35</td>\n",
       "      <td>8</td>\n",
       "      <td>2021</td>\n",
       "      <td>NaN</td>\n",
       "      <td>7</td>\n",
       "      <td>0</td>\n",
       "      <td>...</td>\n",
       "      <td>Happily Ever After</td>\n",
       "      <td>1</td>\n",
       "      <td>21:00</td>\n",
       "      <td>99</td>\n",
       "      <td>Epcot Forever</td>\n",
       "      <td>0</td>\n",
       "      <td>0</td>\n",
       "      <td>99</td>\n",
       "      <td>99</td>\n",
       "      <td>NaN</td>\n",
       "    </tr>\n",
       "  </tbody>\n",
       "</table>\n",
       "<p>2079 rows × 141 columns</p>\n",
       "</div>"
      ],
      "text/plain": [
       "           DATE WDW_TICKET_SEASON  DAYOFWEEK  DAYOFYEAR  WEEKOFYEAR  \\\n",
       "0    2015-01-01               NaN          5          0           0   \n",
       "1    2015-01-02               NaN          6          1           0   \n",
       "2    2015-01-03               NaN          7          2           0   \n",
       "3    2015-01-04               NaN          1          3           1   \n",
       "4    2015-01-05               NaN          2          4           1   \n",
       "...         ...               ...        ...        ...         ...   \n",
       "2074 2021-08-27               NaN          6        238          34   \n",
       "2075 2021-08-28               NaN          7        239          34   \n",
       "2076 2021-08-29               NaN          1        240          35   \n",
       "2077 2021-08-30               NaN          2        241          35   \n",
       "2078 2021-08-31               NaN          3        242          35   \n",
       "\n",
       "      MONTHOFYEAR  YEAR          SEASON  HOLIDAYPX  HOLIDAYM  ...  \\\n",
       "0               1  2015  CHRISTMAS PEAK          0         5  ...   \n",
       "1               1  2015       CHRISTMAS          2         5  ...   \n",
       "2               1  2015       CHRISTMAS          3         0  ...   \n",
       "3               1  2015       CHRISTMAS          4         0  ...   \n",
       "4               1  2015       CHRISTMAS          5         0  ...   \n",
       "...           ...   ...             ...        ...       ...  ...   \n",
       "2074            8  2021             NaN         11         0  ...   \n",
       "2075            8  2021             NaN         10         0  ...   \n",
       "2076            8  2021             NaN          9         0  ...   \n",
       "2077            8  2021             NaN          8         0  ...   \n",
       "2078            8  2021             NaN          7         0  ...   \n",
       "\n",
       "                           MKFIREN  EPFIREWK EPFIRET1 EPFIRET2  \\\n",
       "0     Wishes Nighttime Spectacular         1    21:00       99   \n",
       "1     Wishes Nighttime Spectacular         1    21:00       99   \n",
       "2     Wishes Nighttime Spectacular         1    21:00       99   \n",
       "3     Wishes Nighttime Spectacular         1    21:00       99   \n",
       "4     Wishes Nighttime Spectacular         1    21:00       99   \n",
       "...                            ...       ...      ...      ...   \n",
       "2074            Happily Ever After         1    22:00       99   \n",
       "2075            Happily Ever After         1    22:00       99   \n",
       "2076            Happily Ever After         1    22:00       99   \n",
       "2077            Happily Ever After         1    21:00       99   \n",
       "2078            Happily Ever After         1    21:00       99   \n",
       "\n",
       "                                  EPFIREN  AKPRDDAY  AKSHWNGT AKSHWNT1  \\\n",
       "0     IllumiNations: Reflections of Earth         0         0       99   \n",
       "1     IllumiNations: Reflections of Earth         0         0       99   \n",
       "2     IllumiNations: Reflections of Earth         0         0       99   \n",
       "3     IllumiNations: Reflections of Earth         0         0       99   \n",
       "4     IllumiNations: Reflections of Earth         0         0       99   \n",
       "...                                   ...       ...       ...      ...   \n",
       "2074                        Epcot Forever         0         0       99   \n",
       "2075                        Epcot Forever         0         0       99   \n",
       "2076                        Epcot Forever         0         0       99   \n",
       "2077                        Epcot Forever         0         0       99   \n",
       "2078                        Epcot Forever         0         0       99   \n",
       "\n",
       "      AKSHWNT2  AKSHWNN  \n",
       "0           99      NaN  \n",
       "1           99      NaN  \n",
       "2           99      NaN  \n",
       "3           99      NaN  \n",
       "4           99      NaN  \n",
       "...        ...      ...  \n",
       "2074        99      NaN  \n",
       "2075        99      NaN  \n",
       "2076        99      NaN  \n",
       "2077        99      NaN  \n",
       "2078        99      NaN  \n",
       "\n",
       "[2079 rows x 141 columns]"
      ]
     },
     "execution_count": 12,
     "metadata": {},
     "output_type": "execute_result"
    }
   ],
   "source": [
    "#function that deals with string percentage values for columns that contain percentage of schools in session\n",
    "def str_percent_to_float(dataframe):\n",
    "    for col in dataframe.columns:\n",
    "        if col.lower().startswith('insession'):\n",
    "            dataframe[col] = dataframe[col].str.rstrip(\"%\").astype(float)/100\n",
    "            \n",
    "str_percent_to_float(metadata)\n",
    "metadata"
   ]
  },
  {
   "cell_type": "code",
   "execution_count": 10,
   "metadata": {},
   "outputs": [
    {
     "data": {
      "text/plain": [
       "'25:00'"
      ]
     },
     "execution_count": 10,
     "metadata": {},
     "output_type": "execute_result"
    }
   ],
   "source": [
    "#function that deals with string times of form '9:00' or '25:00'; converts to hours since midnight (float) for consistency and usability\n",
    "sww = [\"MKOPEN\", \"MKCLOSE\", \"MKEMHOPEN\", \"MKEMHCLOSE\", \"MKOPENYEST\", \"MKCLOSEYEST\", \"MKOPENTOM\", \"MKCLOSETOM\", \"EPOPEN\", \"EPCLOSE\", \"EPEMHOPEN\",\n",
    "\"EPEMHCLOSE\", \"EPOPENYEST\", \"EPCLOSEYEST\", \"EPOPENTOM\", \"EPCLOSETOM\", \"AKOPEN\", \"AKCLOSE\", \"AKEMHOPEN\", \"AKEMHCLOSE\", \"AKOPENYEST\", \"AKCLOSEYEST\",\n",
    "\"AKOPENTOM\", \"AKCLOSETOM\", \"MKPRDDT1\", \"MKPRDDT2\", \"MKPRDNT1\", \"MKPRDNT2\", \"MKFIRET1\", \"MKFIRET2\", \"EPFIRET1\", \"EPFIRET2\", \"AKSHWNT1\", \"AKSHWNT2\"]\n",
    "\n",
    "for col in sww:\n",
    "    metadata[col].fillna(\"99\", inplace=True)  #to indicate outliers\n",
    "\n",
    "metadata[\"MKCLOSE\"][0]"
   ]
  },
  {
   "cell_type": "code",
   "execution_count": 13,
   "metadata": {},
   "outputs": [],
   "source": [
    "def format_times(x):\n",
    "    if len(x)==4:\n",
    "        time = '0'+ x\n",
    "    elif len(x)==5 and x > '24:00':\n",
    "        hour = int(x[:2])-24\n",
    "        minute = x[-2:]\n",
    "        time = '0' + str(hour) + ':' + minute\n",
    "    elif x == '24:00':\n",
    "        time = '00:00'\n",
    "    else:\n",
    "        time = x\n",
    "    return time\n",
    "\n",
    "def str_times_to_numerical(dataframe):\n",
    "    for col in sww:\n",
    "        dataframe[col] = dataframe[col].apply(format_times)\n",
    "        dataframe[col] = dataframe[col].apply(lambda y: y.rstrip(':'))\n",
    "        dataframe[col] = dataframe[col].apply(lambda x: (float(x[:2])+(float(x[-2:])/60)) if x[0] != 0 else (float(x[1])+(float(x[-2:])/60)))\n",
    "\n",
    "str_times_to_numerical(metadata)\n"
   ]
  },
  {
   "cell_type": "code",
   "execution_count": 14,
   "metadata": {},
   "outputs": [],
   "source": [
    "#function for filling missing values\n",
    "def imputation(dataframe):\n",
    "        for col in dataframe.columns:\n",
    "                dataframe[col] = dataframe[col].fillna(method='bfill')\n",
    "                dataframe[col] = dataframe[col].fillna(dataframe[col].median())\n",
    "        return dataframe"
   ]
  },
  {
   "cell_type": "code",
   "execution_count": 16,
   "metadata": {},
   "outputs": [
    {
     "name": "stderr",
     "output_type": "stream",
     "text": [
      "/Library/Frameworks/Python.framework/Versions/3.10/lib/python3.10/site-packages/sklearn/utils/deprecation.py:87: FutureWarning: Function get_feature_names is deprecated; get_feature_names is deprecated in 1.0 and will be removed in 1.2. Please use get_feature_names_out instead.\n",
      "  warnings.warn(msg, category=FutureWarning)\n"
     ]
    },
    {
     "data": {
      "text/plain": [
       "(2079, 277)"
      ]
     },
     "execution_count": 16,
     "metadata": {},
     "output_type": "execute_result"
    }
   ],
   "source": [
    "#one-hot encoding of categorical features\n",
    "categorical_features = [\"WDW_TICKET_SEASON\", \"SEASON\", \"HOLIDAYN\", \"WDWTICKETSEASON\", \"WDWRaceN\", \"WDWeventN\", \"WDWSEASON\", \"MKeventN\", \"EPeventN\", \"AKeventN\", \"HOLIDAYJ\", \"MKPRDDN\", \"MKPRDNN\", \"MKFIREN\", \"EPFIREN\", \"AKSHWNN\"]\n",
    "\n",
    "transformer = make_column_transformer(\n",
    "    (OneHotEncoder(), categorical_features),\n",
    "    remainder='passthrough')\n",
    "\n",
    "transformed = transformer.fit_transform(metadata)\n",
    "encoded_metadata = pd.DataFrame(transformed, columns=transformer.get_feature_names())\n",
    "#new name of columns for i encoded column: 'onehotencoder__xi_oldcategoryname'\n",
    "\n",
    "encoded_metadata.shape"
   ]
  },
  {
   "cell_type": "markdown",
   "metadata": {},
   "source": [
    "Merge datasets"
   ]
  },
  {
   "cell_type": "code",
   "execution_count": 17,
   "metadata": {},
   "outputs": [],
   "source": [
    "#change name of \"DATE\" column in metadata to fit with Haunted House \n",
    "encoded_metadata.rename(columns={\"DATE\":\"date\"}, inplace=True)"
   ]
  },
  {
   "cell_type": "code",
   "execution_count": 18,
   "metadata": {},
   "outputs": [],
   "source": [
    "#merge metadata and waiting time data \n",
    "waittimes = pd.merge(hauntedhouse, encoded_metadata, how='left', on='date')"
   ]
  },
  {
   "cell_type": "code",
   "execution_count": 19,
   "metadata": {},
   "outputs": [],
   "source": [
    "# brauchte noch diese Linie, dass funktioniert für mich (Annina)\n",
    "waittimes[\"datetime\"] = pd.to_datetime(waittimes.datetime, format = '%Y-%m-%d %H:%M:%S')"
   ]
  },
  {
   "cell_type": "code",
   "execution_count": 20,
   "metadata": {},
   "outputs": [],
   "source": [
    "#Formatting of dates and times \n",
    "#drop date column due to redundancy\n",
    "waittimes = waittimes.loc[:, waittimes.columns != \"date\"]\n",
    "\n",
    "#create two new variables for hour and minute (day, month and year already included)\n",
    "waittimes[\"HOUROFDAY\"] = waittimes.copy()['datetime'].dt.hour\n",
    "waittimes[\"MINUTEOFHOUR\"] = waittimes.copy()['datetime'].dt.minute\n",
    "#then drop datetime column\n",
    "waittimes = waittimes.loc[:, waittimes.columns != 'datetime']\n"
   ]
  },
  {
   "cell_type": "markdown",
   "metadata": {},
   "source": [
    "Feature Selection"
   ]
  },
  {
   "cell_type": "code",
   "execution_count": 21,
   "metadata": {},
   "outputs": [],
   "source": [
    "from sklearn.metrics import mean_squared_error, r2_score\n",
    "from sklearn.model_selection import train_test_split\n",
    "from sklearn.linear_model import LinearRegression\n",
    "from sklearn.ensemble import RandomForestClassifier\n",
    "from math import sqrt"
   ]
  },
  {
   "cell_type": "code",
   "execution_count": 22,
   "metadata": {},
   "outputs": [],
   "source": [
    "waittimes = imputation(waittimes)"
   ]
  },
  {
   "cell_type": "code",
   "execution_count": 34,
   "metadata": {},
   "outputs": [
    {
     "data": {
      "text/plain": [
       "pandas.core.frame.DataFrame"
      ]
     },
     "execution_count": 34,
     "metadata": {},
     "output_type": "execute_result"
    }
   ],
   "source": [
    "type(waittimes)"
   ]
  },
  {
   "cell_type": "code",
   "execution_count": null,
   "metadata": {},
   "outputs": [
    {
     "data": {
      "text/plain": [
       "((319956, 278), (319956,))"
      ]
     },
     "execution_count": 418,
     "metadata": {},
     "output_type": "execute_result"
    }
   ],
   "source": [
    "X = waittimes.loc[:, waittimes.columns != \"SPOSTMIN\"]\n",
    "y = np.array(waittimes[\"SPOSTMIN\"])\n",
    "X.shape, y.shape"
   ]
  },
  {
   "cell_type": "markdown",
   "metadata": {},
   "source": []
  },
  {
   "cell_type": "code",
   "execution_count": null,
   "metadata": {},
   "outputs": [],
   "source": [
    "X_train, X_test, y_train, y_test = train_test_split(X, y, test_size=0.33, random_state=42)"
   ]
  },
  {
   "cell_type": "code",
   "execution_count": null,
   "metadata": {},
   "outputs": [
    {
     "name": "stdout",
     "output_type": "stream",
     "text": [
      "RMSE: 10.67\n",
      "R_squared: 0.68\n"
     ]
    }
   ],
   "source": [
    "#Random Forest\n",
    "#does not accept NaN?\n",
    "rf = RandomForestClassifier(n_estimators=10, max_depth=50, n_jobs=-1, random_state=42)\n",
    "rf.fit(X_train, y_train)\n",
    "y_pred = rf.predict(X_test)\n",
    "\n",
    "print(\"RMSE: \" + str(round(sqrt(mean_squared_error(y_test, y_pred)), 2)))\n",
    "print(\"R_squared: \" + str(round(r2_score(y_test, y_pred), 2)))"
   ]
  },
  {
   "cell_type": "markdown",
   "metadata": {},
   "source": [
    "Regression (OLS)"
   ]
  },
  {
   "cell_type": "code",
   "execution_count": 66,
   "metadata": {},
   "outputs": [],
   "source": [
    "import matplotlib.pyplot as plt\n",
    "from sklearn import metrics"
   ]
  },
  {
   "cell_type": "code",
   "execution_count": 53,
   "metadata": {},
   "outputs": [],
   "source": [
    "columns_list = list(waittimes.columns)\n",
    "columns_list.remove(\"SPOSTMIN\")"
   ]
  },
  {
   "cell_type": "code",
   "execution_count": 65,
   "metadata": {},
   "outputs": [],
   "source": [
    "x = waittimes[columns_list]\n",
    "y = waittimes['SPOSTMIN']\n",
    "\n",
    "ols = LinearRegression() \n",
    "\n",
    "x_train, x_test, y_train, y_test = train_test_split(x,y, test_size = 0.25)\n"
   ]
  },
  {
   "cell_type": "code",
   "execution_count": 60,
   "metadata": {},
   "outputs": [
    {
     "data": {
      "text/plain": [
       "0.22035345250552385"
      ]
     },
     "execution_count": 60,
     "metadata": {},
     "output_type": "execute_result"
    }
   ],
   "source": [
    "ols.fit(x_test, y_test)\n",
    "y_predols= ols.predict(x_test)\n",
    "\n",
    "r2 = ols.score(x_test, y_test)\n",
    "r2"
   ]
  },
  {
   "cell_type": "code",
   "execution_count": 69,
   "metadata": {},
   "outputs": [
    {
     "name": "stdout",
     "output_type": "stream",
     "text": [
      "16.4378901723318\n",
      "423.83775309839996\n"
     ]
    }
   ],
   "source": [
    "print(metrics.mean_absolute_error(y_test, y_predols))\n",
    "print(metrics.mean_squared_error(y_test, y_predols))"
   ]
  }
 ],
 "metadata": {
  "kernelspec": {
   "display_name": "Python 3.10.6 64-bit",
   "language": "python",
   "name": "python3"
  },
  "language_info": {
   "codemirror_mode": {
    "name": "ipython",
    "version": 3
   },
   "file_extension": ".py",
   "mimetype": "text/x-python",
   "name": "python",
   "nbconvert_exporter": "python",
   "pygments_lexer": "ipython3",
   "version": "3.10.6"
  },
  "orig_nbformat": 4,
  "vscode": {
   "interpreter": {
    "hash": "aee8b7b246df8f9039afb4144a1f6fd8d2ca17a180786b69acc140d282b71a49"
   }
  }
 },
 "nbformat": 4,
 "nbformat_minor": 2
}
