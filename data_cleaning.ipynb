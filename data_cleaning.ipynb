{
 "cells": [
  {
   "cell_type": "code",
   "execution_count": 8,
   "metadata": {},
   "outputs": [
    {
     "name": "stdout",
     "output_type": "stream",
     "text": [
      "            DATE WDW_TICKET_SEASON  DAYOFWEEK  DAYOFYEAR  WEEKOFYEAR  \\\n",
      "0     01/01/2015               NaN          5          0           0   \n",
      "1     01/02/2015               NaN          6          1           0   \n",
      "2     01/03/2015               NaN          7          2           0   \n",
      "3     01/04/2015               NaN          1          3           1   \n",
      "4     01/05/2015               NaN          2          4           1   \n",
      "...          ...               ...        ...        ...         ...   \n",
      "2074  08/27/2021               NaN          6        238          34   \n",
      "2075  08/28/2021               NaN          7        239          34   \n",
      "2076  08/29/2021               NaN          1        240          35   \n",
      "2077  08/30/2021               NaN          2        241          35   \n",
      "2078  08/31/2021               NaN          3        242          35   \n",
      "\n",
      "      MONTHOFYEAR  YEAR          SEASON  HOLIDAYPX  HOLIDAYM  ... HSFIREWKS  \\\n",
      "0               1  2015  CHRISTMAS PEAK          0         5  ...         1   \n",
      "1               1  2015       CHRISTMAS          2         5  ...         1   \n",
      "2               1  2015       CHRISTMAS          3         0  ...         1   \n",
      "3               1  2015       CHRISTMAS          4         0  ...         1   \n",
      "4               1  2015       CHRISTMAS          5         0  ...         1   \n",
      "...           ...   ...             ...        ...       ...  ...       ...   \n",
      "2074            8  2021             NaN         11         0  ...         1   \n",
      "2075            8  2021             NaN         10         0  ...         1   \n",
      "2076            8  2021             NaN          9         0  ...         1   \n",
      "2077            8  2021             NaN          8         0  ...         1   \n",
      "2078            8  2021             NaN          7         0  ...         1   \n",
      "\n",
      "      AKPRDDAY AKPRDDT1 AKPRDDT2 AKPRDDN  AKFIREN  AKSHWNGT AKSHWNT1  \\\n",
      "0            0      NaN      NaN     NaN      NaN         0      NaN   \n",
      "1            0      NaN      NaN     NaN      NaN         0      NaN   \n",
      "2            0      NaN      NaN     NaN      NaN         0      NaN   \n",
      "3            0      NaN      NaN     NaN      NaN         0      NaN   \n",
      "4            0      NaN      NaN     NaN      NaN         0      NaN   \n",
      "...        ...      ...      ...     ...      ...       ...      ...   \n",
      "2074         0      NaN      NaN     NaN      NaN         0      NaN   \n",
      "2075         0      NaN      NaN     NaN      NaN         0      NaN   \n",
      "2076         0      NaN      NaN     NaN      NaN         0      NaN   \n",
      "2077         0      NaN      NaN     NaN      NaN         0      NaN   \n",
      "2078         0      NaN      NaN     NaN      NaN         0      NaN   \n",
      "\n",
      "      AKSHWNT2  AKSHWNN  \n",
      "0          NaN      NaN  \n",
      "1          NaN      NaN  \n",
      "2          NaN      NaN  \n",
      "3          NaN      NaN  \n",
      "4          NaN      NaN  \n",
      "...        ...      ...  \n",
      "2074       NaN      NaN  \n",
      "2075       NaN      NaN  \n",
      "2076       NaN      NaN  \n",
      "2077       NaN      NaN  \n",
      "2078       NaN      NaN  \n",
      "\n",
      "[2079 rows x 181 columns]\n",
      "              date             datetime  SACTMIN  SPOSTMIN\n",
      "0       01/01/2015  2015-01-01 08:23:09      NaN    -999.0\n",
      "1       01/01/2015  2015-01-01 08:37:13      NaN      10.0\n",
      "2       01/01/2015  2015-01-01 08:37:31      NaN    -999.0\n",
      "3       01/01/2015  2015-01-01 08:44:11      NaN      10.0\n",
      "4       01/01/2015  2015-01-01 08:51:12      NaN      10.0\n",
      "...            ...                  ...      ...       ...\n",
      "319951  12/28/2021  2021-12-28 22:36:08      NaN      13.0\n",
      "319952  12/28/2021  2021-12-28 22:42:15      NaN      13.0\n",
      "319953  12/28/2021  2021-12-28 22:48:12      NaN      13.0\n",
      "319954  12/28/2021  2021-12-28 22:54:10      NaN      13.0\n",
      "319955  12/28/2021  2021-12-28 23:00:27      NaN      13.0\n",
      "\n",
      "[319956 rows x 4 columns]\n"
     ]
    }
   ],
   "source": [
    "import pandas as pd \n",
    "import numpy as np \n",
    "\n",
    "metadata = pd.read_csv(\"../Project-Disney-World-DSF/metadata.csv\")\n",
    "print(metadata)\n",
    "\n",
    "hauntedhouse = pd.read_csv(\"../Project-Disney-World-DSF/haunted_mansion[87].csv\")\n",
    "print(hauntedhouse)\n"
   ]
  },
  {
   "cell_type": "code",
   "execution_count": 38,
   "metadata": {},
   "outputs": [
    {
     "ename": "IndexError",
     "evalue": "positional indexers are out-of-bounds",
     "output_type": "error",
     "traceback": [
      "\u001b[1;31m---------------------------------------------------------------------------\u001b[0m",
      "\u001b[1;31mIndexError\u001b[0m                                Traceback (most recent call last)",
      "Cell \u001b[1;32mIn [38], line 6\u001b[0m\n\u001b[0;32m      4\u001b[0m indeces \u001b[39m=\u001b[39m createList(\u001b[39m0\u001b[39m, \u001b[39m23\u001b[39m) \u001b[39m+\u001b[39m createList(\u001b[39m29\u001b[39m, \u001b[39m63\u001b[39m) \u001b[39m+\u001b[39m createList(\u001b[39m90\u001b[39m, \u001b[39m101\u001b[39m) \u001b[39m+\u001b[39m createList(\u001b[39m134\u001b[39m, \u001b[39m165\u001b[39m)\n\u001b[0;32m      5\u001b[0m \u001b[39mtype\u001b[39m(indeces)\n\u001b[1;32m----> 6\u001b[0m metadata1 \u001b[39m=\u001b[39m metadata\u001b[39m.\u001b[39;49miloc[:, indeces]\n\u001b[0;32m      7\u001b[0m metadata1\u001b[39m.\u001b[39misna()\u001b[39m.\u001b[39msum()\n",
      "File \u001b[1;32mc:\\Users\\Sara Knapp\\AppData\\Local\\Programs\\Python\\Python311\\Lib\\site-packages\\pandas\\core\\indexing.py:1067\u001b[0m, in \u001b[0;36m_LocationIndexer.__getitem__\u001b[1;34m(self, key)\u001b[0m\n\u001b[0;32m   1065\u001b[0m     \u001b[39mif\u001b[39;00m \u001b[39mself\u001b[39m\u001b[39m.\u001b[39m_is_scalar_access(key):\n\u001b[0;32m   1066\u001b[0m         \u001b[39mreturn\u001b[39;00m \u001b[39mself\u001b[39m\u001b[39m.\u001b[39mobj\u001b[39m.\u001b[39m_get_value(\u001b[39m*\u001b[39mkey, takeable\u001b[39m=\u001b[39m\u001b[39mself\u001b[39m\u001b[39m.\u001b[39m_takeable)\n\u001b[1;32m-> 1067\u001b[0m     \u001b[39mreturn\u001b[39;00m \u001b[39mself\u001b[39;49m\u001b[39m.\u001b[39;49m_getitem_tuple(key)\n\u001b[0;32m   1068\u001b[0m \u001b[39melse\u001b[39;00m:\n\u001b[0;32m   1069\u001b[0m     \u001b[39m# we by definition only have the 0th axis\u001b[39;00m\n\u001b[0;32m   1070\u001b[0m     axis \u001b[39m=\u001b[39m \u001b[39mself\u001b[39m\u001b[39m.\u001b[39maxis \u001b[39mor\u001b[39;00m \u001b[39m0\u001b[39m\n",
      "File \u001b[1;32mc:\\Users\\Sara Knapp\\AppData\\Local\\Programs\\Python\\Python311\\Lib\\site-packages\\pandas\\core\\indexing.py:1563\u001b[0m, in \u001b[0;36m_iLocIndexer._getitem_tuple\u001b[1;34m(self, tup)\u001b[0m\n\u001b[0;32m   1561\u001b[0m \u001b[39mdef\u001b[39;00m \u001b[39m_getitem_tuple\u001b[39m(\u001b[39mself\u001b[39m, tup: \u001b[39mtuple\u001b[39m):\n\u001b[1;32m-> 1563\u001b[0m     tup \u001b[39m=\u001b[39m \u001b[39mself\u001b[39;49m\u001b[39m.\u001b[39;49m_validate_tuple_indexer(tup)\n\u001b[0;32m   1564\u001b[0m     \u001b[39mwith\u001b[39;00m suppress(IndexingError):\n\u001b[0;32m   1565\u001b[0m         \u001b[39mreturn\u001b[39;00m \u001b[39mself\u001b[39m\u001b[39m.\u001b[39m_getitem_lowerdim(tup)\n",
      "File \u001b[1;32mc:\\Users\\Sara Knapp\\AppData\\Local\\Programs\\Python\\Python311\\Lib\\site-packages\\pandas\\core\\indexing.py:873\u001b[0m, in \u001b[0;36m_LocationIndexer._validate_tuple_indexer\u001b[1;34m(self, key)\u001b[0m\n\u001b[0;32m    871\u001b[0m \u001b[39mfor\u001b[39;00m i, k \u001b[39min\u001b[39;00m \u001b[39menumerate\u001b[39m(key):\n\u001b[0;32m    872\u001b[0m     \u001b[39mtry\u001b[39;00m:\n\u001b[1;32m--> 873\u001b[0m         \u001b[39mself\u001b[39;49m\u001b[39m.\u001b[39;49m_validate_key(k, i)\n\u001b[0;32m    874\u001b[0m     \u001b[39mexcept\u001b[39;00m \u001b[39mValueError\u001b[39;00m \u001b[39mas\u001b[39;00m err:\n\u001b[0;32m    875\u001b[0m         \u001b[39mraise\u001b[39;00m \u001b[39mValueError\u001b[39;00m(\n\u001b[0;32m    876\u001b[0m             \u001b[39m\"\u001b[39m\u001b[39mLocation based indexing can only have \u001b[39m\u001b[39m\"\u001b[39m\n\u001b[0;32m    877\u001b[0m             \u001b[39mf\u001b[39m\u001b[39m\"\u001b[39m\u001b[39m[\u001b[39m\u001b[39m{\u001b[39;00m\u001b[39mself\u001b[39m\u001b[39m.\u001b[39m_valid_types\u001b[39m}\u001b[39;00m\u001b[39m] types\u001b[39m\u001b[39m\"\u001b[39m\n\u001b[0;32m    878\u001b[0m         ) \u001b[39mfrom\u001b[39;00m \u001b[39merr\u001b[39;00m\n",
      "File \u001b[1;32mc:\\Users\\Sara Knapp\\AppData\\Local\\Programs\\Python\\Python311\\Lib\\site-packages\\pandas\\core\\indexing.py:1481\u001b[0m, in \u001b[0;36m_iLocIndexer._validate_key\u001b[1;34m(self, key, axis)\u001b[0m\n\u001b[0;32m   1479\u001b[0m     \u001b[39m# check that the key does not exceed the maximum size of the index\u001b[39;00m\n\u001b[0;32m   1480\u001b[0m     \u001b[39mif\u001b[39;00m \u001b[39mlen\u001b[39m(arr) \u001b[39mand\u001b[39;00m (arr\u001b[39m.\u001b[39mmax() \u001b[39m>\u001b[39m\u001b[39m=\u001b[39m len_axis \u001b[39mor\u001b[39;00m arr\u001b[39m.\u001b[39mmin() \u001b[39m<\u001b[39m \u001b[39m-\u001b[39mlen_axis):\n\u001b[1;32m-> 1481\u001b[0m         \u001b[39mraise\u001b[39;00m \u001b[39mIndexError\u001b[39;00m(\u001b[39m\"\u001b[39m\u001b[39mpositional indexers are out-of-bounds\u001b[39m\u001b[39m\"\u001b[39m)\n\u001b[0;32m   1482\u001b[0m \u001b[39melse\u001b[39;00m:\n\u001b[0;32m   1483\u001b[0m     \u001b[39mraise\u001b[39;00m \u001b[39mValueError\u001b[39;00m(\u001b[39mf\u001b[39m\u001b[39m\"\u001b[39m\u001b[39mCan only index by location with a [\u001b[39m\u001b[39m{\u001b[39;00m\u001b[39mself\u001b[39m\u001b[39m.\u001b[39m_valid_types\u001b[39m}\u001b[39;00m\u001b[39m]\u001b[39m\u001b[39m\"\u001b[39m)\n",
      "\u001b[1;31mIndexError\u001b[0m: positional indexers are out-of-bounds"
     ]
    }
   ],
   "source": [
    "def createList (r1, r2):\n",
    "    return list(range(r1, r2))\n",
    "\n",
    "indeces = createList(0, 23) + createList(29, 63) + createList(90, 101) + createList(134, 165)\n",
    "type(indeces)\n",
    "metadata1 = metadata.iloc[:, indeces]\n",
    "metadata1.isna().sum()\n",
    "\n"
   ]
  }
 ],
 "metadata": {
  "kernelspec": {
   "display_name": "Python 3.11.0 64-bit",
   "language": "python",
   "name": "python3"
  },
  "language_info": {
   "codemirror_mode": {
    "name": "ipython",
    "version": 3
   },
   "file_extension": ".py",
   "mimetype": "text/x-python",
   "name": "python",
   "nbconvert_exporter": "python",
   "pygments_lexer": "ipython3",
   "version": "3.11.0"
  },
  "orig_nbformat": 4,
  "vscode": {
   "interpreter": {
    "hash": "e18deac9a93824e2905de3740a1c0a3acba4bb9a48e12a16ace19648634b230a"
   }
  }
 },
 "nbformat": 4,
 "nbformat_minor": 2
}
