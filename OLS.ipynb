{
 "cells": [
  {
   "cell_type": "code",
   "execution_count": null,
   "metadata": {},
   "outputs": [],
   "source": [
    "fig, ax = plt.subplots(figsize=(8, 4))\n",
    "\n",
    "ax.plot(x_test, y_test, color='orange', label='Regression model')\n",
    "ax.scatter(x_test, y_test, edgecolor='k', facecolor='blue', alpha=0.7, label='Sample data')\n",
    "ax.set_ylabel('waiting time', fontsize=14)\n",
    "ax.set_xlabel('Features', fontsize=14)\n",
    "ax.legend(facecolor='white', fontsize=11)\n",
    "ax.set_title('Disney Wold Wait time prediction' % r2, fontsize=18)\n",
    "# code to print regression"
   ]
  },
  {
   "cell_type": "markdown",
   "metadata": {},
   "source": [
    "OLS = Ordinary Least Squares\n",
    "- most standard method of regression\n",
    "- building linear relationship between a target variable y and some features x1, ,x2, x3 etc.\n",
    "- closed-form solution of minimizing the MSE so don't need gradient descent\n",
    "\n",
    "In our case:"
   ]
  },
  {
   "cell_type": "markdown",
   "metadata": {},
   "source": [
    "In our case:\n",
    "target variable => waiting time at Haunted House\n",
    "features => metadata\n",
    "\n",
    "Vorlagen:\n",
    "105 notebook Nuvolos and\n",
    "OLS in github project #https://github.com/laurenkwng/Disney-World-Wait-Times"
   ]
  },
  {
   "cell_type": "markdown",
   "metadata": {},
   "source": [
    "To do:\n",
    "need merged dataset to start"
   ]
  }
 ],
 "metadata": {
  "kernelspec": {
   "display_name": "Python 3.10.6 64-bit",
   "language": "python",
   "name": "python3"
  },
  "language_info": {
   "name": "python",
   "version": "3.10.6"
  },
  "orig_nbformat": 4,
  "vscode": {
   "interpreter": {
    "hash": "aee8b7b246df8f9039afb4144a1f6fd8d2ca17a180786b69acc140d282b71a49"
   }
  }
 },
 "nbformat": 4,
 "nbformat_minor": 2
}
